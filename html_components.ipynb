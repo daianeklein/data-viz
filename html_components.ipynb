{
 "cells": [
  {
   "cell_type": "code",
   "execution_count": 8,
   "metadata": {},
   "outputs": [],
   "source": [
    "import dash\n",
    "import dash_html_components as html\n",
    "import dash_core_components as dcc\n"
   ]
  },
  {
   "cell_type": "code",
   "execution_count": 7,
   "metadata": {},
   "outputs": [
    {
     "name": "stdout",
     "output_type": "stream",
     "text": [
      " * Serving Flask app 'dash' (lazy loading)\n",
      " * Environment: production\n",
      "\u001b[31m   WARNING: This is a development server. Do not use it in a production deployment.\u001b[0m\n",
      "\u001b[2m   Use a production WSGI server instead.\u001b[0m\n",
      " * Debug mode: off\n"
     ]
    },
    {
     "name": "stderr",
     "output_type": "stream",
     "text": [
      " * Running on http://127.0.0.1:8050/ (Press CTRL+C to quit)\n",
      "127.0.0.1 - - [03/Nov/2021 17:25:00] \"GET / HTTP/1.1\" 200 -\n",
      "127.0.0.1 - - [03/Nov/2021 17:25:01] \"GET /_dash-layout HTTP/1.1\" 200 -\n",
      "127.0.0.1 - - [03/Nov/2021 17:25:01] \"GET /_dash-dependencies HTTP/1.1\" 200 -\n",
      "127.0.0.1 - - [03/Nov/2021 17:25:01] \"GET /favicon.ico HTTP/1.1\" 200 -\n"
     ]
    }
   ],
   "source": [
    "app = dash.Dash()\n",
    "\n",
    "app.layout = html.Div(['This is the outermost div!',\n",
    "             html.Div(['This an inner div!'], \n",
    "                        style = {'color' : 'red',\n",
    "                        'border' : '2px red solid'}),\n",
    "                    html.Div(['Another inner Div!'],\n",
    "                        style={'color' : 'blue',\n",
    "                        'border' : '3px blue solid'})],\n",
    "\n",
    "        style = {'color' : 'green',\n",
    "                'border' : '2px green solid'})\n",
    "\n",
    "\n",
    "if __name__ == '__main__':\n",
    "    app.run_server()"
   ]
  },
  {
   "cell_type": "code",
   "execution_count": 15,
   "metadata": {},
   "outputs": [
    {
     "name": "stdout",
     "output_type": "stream",
     "text": [
      " * Serving Flask app 'dash' (lazy loading)\n",
      " * Environment: production\n",
      "\u001b[31m   WARNING: This is a development server. Do not use it in a production deployment.\u001b[0m\n",
      "\u001b[2m   Use a production WSGI server instead.\u001b[0m\n",
      " * Debug mode: off\n"
     ]
    },
    {
     "name": "stderr",
     "output_type": "stream",
     "text": [
      " * Running on http://127.0.0.1:8050/ (Press CTRL+C to quit)\n",
      "127.0.0.1 - - [03/Nov/2021 18:04:18] \"GET / HTTP/1.1\" 200 -\n",
      "127.0.0.1 - - [03/Nov/2021 18:04:19] \"GET /_dash-layout HTTP/1.1\" 200 -\n",
      "127.0.0.1 - - [03/Nov/2021 18:04:19] \"GET /_dash-dependencies HTTP/1.1\" 200 -\n",
      "127.0.0.1 - - [03/Nov/2021 18:04:20] \"GET /favicon.ico HTTP/1.1\" 200 -\n"
     ]
    }
   ],
   "source": [
    "app = dash.Dash()\n",
    "\n",
    "\n",
    "app.layout = html.Div([\n",
    "\n",
    "    html.Label('Dropdown'),\n",
    "    dcc.Dropdown(options=[{'label' : 'New York City',\n",
    "                                     'value' : 'NYC'},\n",
    "                                     \n",
    "                            {'label' : 'San Francisco',\n",
    "                                     'value' : 'SF'}],   \n",
    "                                value = 'SF'),\n",
    "\n",
    "    html.P(html.Label('Slider')), \n",
    "    dcc.Slider(min = -10, max = 10, step =0.5, value = 0, marks = {i : i for i in range(-10, 10)}),\n",
    "\n",
    "    html.P(html.Label('Some Radio Items')),\n",
    "    dcc.RadioItems(options =[{'label' : 'New York City',\n",
    "                                     'value' : 'NYC'},\n",
    "                                     \n",
    "                            {'label' : 'San Francisco',\n",
    "                                     'value' : 'SF'}],\n",
    "                                     \n",
    "                            value = 'SF')\n",
    "\n",
    "    ])\n",
    "\n",
    "if __name__ == '__main__':\n",
    "    app.run_server()"
   ]
  },
  {
   "cell_type": "code",
   "execution_count": 16,
   "metadata": {},
   "outputs": [
    {
     "name": "stdout",
     "output_type": "stream",
     "text": [
      " * Serving Flask app 'dash' (lazy loading)\n",
      " * Environment: production\n",
      "\u001b[31m   WARNING: This is a development server. Do not use it in a production deployment.\u001b[0m\n",
      "\u001b[2m   Use a production WSGI server instead.\u001b[0m\n",
      " * Debug mode: off\n"
     ]
    },
    {
     "name": "stderr",
     "output_type": "stream",
     "text": [
      " * Running on http://127.0.0.1:8050/ (Press CTRL+C to quit)\n",
      "127.0.0.1 - - [03/Nov/2021 18:12:03] \"GET / HTTP/1.1\" 200 -\n",
      "127.0.0.1 - - [03/Nov/2021 18:12:04] \"GET /_dash-layout HTTP/1.1\" 200 -\n",
      "127.0.0.1 - - [03/Nov/2021 18:12:04] \"GET /_dash-dependencies HTTP/1.1\" 200 -\n",
      "127.0.0.1 - - [03/Nov/2021 18:12:04] \"GET /favicon.ico HTTP/1.1\" 200 -\n"
     ]
    }
   ],
   "source": [
    "app = dash.Dash()\n",
    "\n",
    "markdown_text = '''\n",
    "### Dash Markdown\n",
    "Dash Apps can be written in Markdown\n",
    "\n",
    "'''\n",
    "\n",
    "app.layout = html.Div([\n",
    "    dcc.Markdown(children=markdown_text)\n",
    "])\n",
    "\n",
    "if __name__ == '__main__':\n",
    "    app.run_server()"
   ]
  },
  {
   "cell_type": "code",
   "execution_count": null,
   "metadata": {},
   "outputs": [],
   "source": []
  }
 ],
 "metadata": {
  "kernelspec": {
   "display_name": "Python 3.9.7 64-bit ('venv-dash': conda)",
   "name": "python397jvsc74a57bd055f600b57da431e6b77cdde05ccfa3e0750e17b5a20a9c304dc23f2d879f102f"
  },
  "language_info": {
   "codemirror_mode": {
    "name": "ipython",
    "version": 3
   },
   "file_extension": ".py",
   "mimetype": "text/x-python",
   "name": "python",
   "nbconvert_exporter": "python",
   "pygments_lexer": "ipython3",
   "version": "3.9.7"
  },
  "orig_nbformat": 2
 },
 "nbformat": 4,
 "nbformat_minor": 2
}