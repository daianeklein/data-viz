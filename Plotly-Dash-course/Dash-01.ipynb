{
 "cells": [
  {
   "cell_type": "code",
   "execution_count": 8,
   "metadata": {
    "ExecuteTime": {
     "end_time": "2021-10-29T13:17:44.763095Z",
     "start_time": "2021-10-29T13:17:44.758596Z"
    }
   },
   "outputs": [],
   "source": [
    "import dash\n",
    "import dash_core_components as dcc\n",
    "import dash_html_components as html\n",
    "import numpy as np\n",
    "import pandas as pd\n",
    "import plotly.offline as pyo\n",
    "import plotly.graph_objs as go"
   ]
  },
  {
   "cell_type": "code",
   "execution_count": null,
   "metadata": {
    "ExecuteTime": {
     "start_time": "2021-10-29T12:39:57.360Z"
    }
   },
   "outputs": [],
   "source": [
    "app = dash.Dash()\n",
    "\n",
    "app.layout = html.Div(children = [\n",
    "    html.H1('Hello Dash!'),\n",
    "    html.Div('Dash: Web Dashboards with Python'),\n",
    "    dcc.Graph(id='example',\n",
    "             figure={'data' : [\n",
    "                 {'x' : [1, 2, 3], 'y' : [4, 1, 2], 'type' : 'bar','name' : 'SF'},\n",
    "                 {'x' : [1, 2, 3], 'y' : [2, 4, 5], 'type' : 'bar','name' : 'NYC'}\n",
    "             ],\n",
    "                'layout': {\n",
    "                'title' : 'BAR PLOTS'\n",
    "                }})\n",
    "])\n",
    "\n",
    "if __name__ == '__main__':\n",
    "    app.run_server()"
   ]
  },
  {
   "cell_type": "code",
   "execution_count": 14,
   "metadata": {
    "ExecuteTime": {
     "end_time": "2021-10-29T14:35:32.439207Z",
     "start_time": "2021-10-29T14:35:05.616042Z"
    }
   },
   "outputs": [
    {
     "name": "stdout",
     "output_type": "stream",
     "text": [
      " * Serving Flask app 'dash' (lazy loading)\n",
      " * Environment: production\n",
      "\u001b[31m   WARNING: This is a development server. Do not use it in a production deployment.\u001b[0m\n",
      "\u001b[2m   Use a production WSGI server instead.\u001b[0m\n",
      " * Debug mode: off\n"
     ]
    },
    {
     "name": "stderr",
     "output_type": "stream",
     "text": [
      " * Running on http://127.0.0.1:8050/ (Press CTRL+C to quit)\n",
      "127.0.0.1 - - [29/Oct/2021 11:35:15] \"GET / HTTP/1.1\" 200 -\n",
      "127.0.0.1 - - [29/Oct/2021 11:35:16] \"GET /_dash-layout HTTP/1.1\" 200 -\n",
      "127.0.0.1 - - [29/Oct/2021 11:35:16] \"GET /_dash-dependencies HTTP/1.1\" 200 -\n",
      "127.0.0.1 - - [29/Oct/2021 11:35:16] \"GET /favicon.ico HTTP/1.1\" 200 -\n",
      "127.0.0.1 - - [29/Oct/2021 11:35:28] \"GET / HTTP/1.1\" 200 -\n",
      "127.0.0.1 - - [29/Oct/2021 11:35:28] \"GET /_dash-layout HTTP/1.1\" 200 -\n",
      "127.0.0.1 - - [29/Oct/2021 11:35:28] \"GET /_dash-dependencies HTTP/1.1\" 200 -\n",
      "127.0.0.1 - - [29/Oct/2021 11:35:28] \"GET /favicon.ico HTTP/1.1\" 200 -\n"
     ]
    }
   ],
   "source": [
    "app = dash.Dash()\n",
    "\n",
    "colors = {'background' : '#111111', 'text' : '#7FDBFF'}\n",
    "\n",
    "\n",
    "app.layout = html.Div(children = [\n",
    "    html.H1('Hello Dash!', style ={'textAlign' : 'center',\n",
    "                                  'color' : colors['text']}),\n",
    "    dcc.Graph(id='example',\n",
    "             figure={'data' : [\n",
    "                 {'x' : [1, 2, 3], 'y' : [4, 1, 2], 'type' : 'bar','name' : 'SF'},\n",
    "                 {'x' : [1, 2, 3], 'y' : [2, 4, 5], 'type' : 'bar','name' : 'NYC'}\n",
    "             ],\n",
    "                'layout': {\n",
    "                'plot_bgcolor'  : colors['background'],\n",
    "                'paper_bgcolor' : colors['background'],\n",
    "                'font'          : {'color': colors['text']},\n",
    "                'title'         : 'BAR PLOTS'\n",
    "                }})\n",
    "    \n",
    "], style={'backgroundColor' : colors['background']})\n",
    "\n",
    "if __name__ == '__main__':\n",
    "    app.run_server()"
   ]
  },
  {
   "cell_type": "code",
   "execution_count": 10,
   "metadata": {
    "ExecuteTime": {
     "end_time": "2021-10-29T13:18:45.225603Z",
     "start_time": "2021-10-29T13:18:25.923171Z"
    }
   },
   "outputs": [
    {
     "name": "stdout",
     "output_type": "stream",
     "text": [
      " * Serving Flask app 'dash' (lazy loading)\n",
      " * Environment: production\n",
      "\u001b[31m   WARNING: This is a development server. Do not use it in a production deployment.\u001b[0m\n",
      "\u001b[2m   Use a production WSGI server instead.\u001b[0m\n",
      " * Debug mode: off\n"
     ]
    },
    {
     "name": "stderr",
     "output_type": "stream",
     "text": [
      " * Running on http://127.0.0.1:8050/ (Press CTRL+C to quit)\n",
      "127.0.0.1 - - [29/Oct/2021 10:18:29] \"GET / HTTP/1.1\" 200 -\n",
      "127.0.0.1 - - [29/Oct/2021 10:18:29] \"GET /_dash-layout HTTP/1.1\" 200 -\n",
      "127.0.0.1 - - [29/Oct/2021 10:18:29] \"GET /_dash-dependencies HTTP/1.1\" 200 -\n",
      "127.0.0.1 - - [29/Oct/2021 10:18:29] \"GET /favicon.ico HTTP/1.1\" 200 -\n"
     ]
    }
   ],
   "source": [
    "app = dash.Dash()\n",
    "\n",
    "# creating data\n",
    "np.random.seed(42)\n",
    "random_x = np.random.randint(1, 101, 100)\n",
    "random_y = np.random.randint(1, 101, 100)\n",
    "\n",
    "app.layout = html.Div([dcc.Graph(id='scatterplot', \n",
    "                                figure = {'data': [go.Scatter(\n",
    "                                                    x = random_x,\n",
    "                                                    y = random_y,\n",
    "                                                    mode = 'markers')],\n",
    "                                          \n",
    "                                          'layout' : go.Layout(\n",
    "                                                    title = 'My Scatterplot')}\n",
    "                                        )])\n",
    "\n",
    "if __name__ == '__main__':\n",
    "    app.run_server()"
   ]
  },
  {
   "cell_type": "code",
   "execution_count": 12,
   "metadata": {
    "ExecuteTime": {
     "end_time": "2021-10-29T13:22:06.728146Z",
     "start_time": "2021-10-29T13:21:47.227465Z"
    }
   },
   "outputs": [
    {
     "name": "stdout",
     "output_type": "stream",
     "text": [
      " * Serving Flask app 'dash' (lazy loading)\n",
      " * Environment: production\n",
      "\u001b[31m   WARNING: This is a development server. Do not use it in a production deployment.\u001b[0m\n",
      "\u001b[2m   Use a production WSGI server instead.\u001b[0m\n",
      " * Debug mode: off\n"
     ]
    },
    {
     "name": "stderr",
     "output_type": "stream",
     "text": [
      " * Running on http://127.0.0.1:8050/ (Press CTRL+C to quit)\n",
      "127.0.0.1 - - [29/Oct/2021 10:21:49] \"GET / HTTP/1.1\" 200 -\n",
      "127.0.0.1 - - [29/Oct/2021 10:21:50] \"GET /_dash-layout HTTP/1.1\" 200 -\n",
      "127.0.0.1 - - [29/Oct/2021 10:21:50] \"GET /_dash-dependencies HTTP/1.1\" 200 -\n",
      "127.0.0.1 - - [29/Oct/2021 10:21:50] \"GET /favicon.ico HTTP/1.1\" 200 -\n"
     ]
    }
   ],
   "source": [
    "app = dash.Dash()\n",
    "\n",
    "# creating data\n",
    "np.random.seed(42)\n",
    "random_x = np.random.randint(1, 101, 100)\n",
    "random_y = np.random.randint(1, 101, 100)\n",
    "\n",
    "app.layout = html.Div([dcc.Graph(id='scatterplot', \n",
    "                                figure = {'data': [go.Scatter(\n",
    "                                                    x = random_x,\n",
    "                                                    y = random_y,\n",
    "                                                    mode = 'markers',\n",
    "                                                    marker = {\n",
    "                                                                'size'  : 12,\n",
    "                                                                'color' : 'rgb(51, 204, 153)',\n",
    "                                                                'symbol': 'pentagon',\n",
    "                                                                'line'  : {'width' : 2}})],\n",
    "                                          'layout' : go.Layout(\n",
    "                                                    title = 'My Scatterplot',\n",
    "                                                    xaxis = {'title' : 'Some X Title'})}\n",
    "                                        )])\n",
    "\n",
    "if __name__ == '__main__':\n",
    "    app.run_server()"
   ]
  },
  {
   "cell_type": "code",
   "execution_count": 16,
   "metadata": {
    "ExecuteTime": {
     "end_time": "2021-10-29T14:37:58.778442Z",
     "start_time": "2021-10-29T14:35:40.632176Z"
    }
   },
   "outputs": [
    {
     "name": "stdout",
     "output_type": "stream",
     "text": [
      " * Serving Flask app 'dash' (lazy loading)\n",
      " * Environment: production\n",
      "\u001b[31m   WARNING: This is a development server. Do not use it in a production deployment.\u001b[0m\n",
      "\u001b[2m   Use a production WSGI server instead.\u001b[0m\n",
      " * Debug mode: off\n"
     ]
    },
    {
     "name": "stderr",
     "output_type": "stream",
     "text": [
      " * Running on http://127.0.0.1:8050/ (Press CTRL+C to quit)\n"
     ]
    }
   ],
   "source": [
    "app = dash.Dash()\n",
    "\n",
    "# creating data\n",
    "np.random.seed(42)\n",
    "random_x = np.random.randint(1, 101, 100)\n",
    "random_y = np.random.randint(1, 101, 100)\n",
    "\n",
    "app.layout = html.Div([dcc.Graph(id='scatterplot', \n",
    "                                figure = {'data': [go.Scatter(\n",
    "                                                    x = random_x,\n",
    "                                                    y = random_y,\n",
    "                                                    mode = 'markers',\n",
    "                                                    marker = {\n",
    "                                                                'size'  : 12,\n",
    "                                                                'color' : 'rgb(51, 204, 153)',\n",
    "                                                                'symbol': 'pentagon',\n",
    "                                                                'line'  : {'width' : 2}})],\n",
    "                                          'layout' : go.Layout(\n",
    "                                                    title = 'My Scatterplot',\n",
    "                                                    xaxis = {'title' : 'Some X Title'})}),\n",
    "                      dcc.Graph(id='scatterplot2', \n",
    "                                figure = {'data': [go.Scatter(\n",
    "                                                    x = random_x,\n",
    "                                                    y = random_y,\n",
    "                                                    mode = 'markers',\n",
    "                                                    marker = {\n",
    "                                                                'size'  : 12,\n",
    "                                                                'color' : 'rgb(200, 204, 53)',\n",
    "                                                                'symbol': 'pentagon',\n",
    "                                                                'line'  : {'width' : 2}})],\n",
    "                                          'layout' : go.Layout(\n",
    "                                                    title = 'My Second Plot',\n",
    "                                                    xaxis = {'title' : 'Some X Title'})}\n",
    "                                        )])\n",
    "\n",
    "if __name__ == '__main__':\n",
    "    app.run_server()"
   ]
  },
  {
   "cell_type": "code",
   "execution_count": null,
   "metadata": {},
   "outputs": [],
   "source": []
  }
 ],
 "metadata": {
  "kernelspec": {
   "display_name": "venv-dash",
   "language": "python",
   "name": "venv-dash"
  },
  "language_info": {
   "codemirror_mode": {
    "name": "ipython",
    "version": 3
   },
   "file_extension": ".py",
   "mimetype": "text/x-python",
   "name": "python",
   "nbconvert_exporter": "python",
   "pygments_lexer": "ipython3",
   "version": "3.9.7"
  },
  "toc": {
   "base_numbering": 1,
   "nav_menu": {},
   "number_sections": true,
   "sideBar": true,
   "skip_h1_title": false,
   "title_cell": "Table of Contents",
   "title_sidebar": "Contents",
   "toc_cell": false,
   "toc_position": {},
   "toc_section_display": true,
   "toc_window_display": false
  }
 },
 "nbformat": 4,
 "nbformat_minor": 4
}
