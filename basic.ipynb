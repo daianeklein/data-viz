{
 "cells": [
  {
   "cell_type": "code",
   "execution_count": 1,
   "metadata": {},
   "outputs": [],
   "source": [
    "import pandas as pd\n",
    "import numpy as np\n",
    "import plotly.offline as pyo\n",
    "import plotly.graph_objs as go"
   ]
  },
  {
   "cell_type": "code",
   "execution_count": 2,
   "metadata": {},
   "outputs": [
    {
     "data": {
      "text/plain": "'file:///Users/daianeklein/Documents/Data Science/Data-Viz/Plotly-Dash/Plotly-Dash/data-viz/scatter.html'"
     },
     "execution_count": 2,
     "metadata": {},
     "output_type": "execute_result"
    }
   ],
   "source": [
    "np.random.seed(42)\n",
    "\n",
    "random_x = np.random.randint(1, 101, 100)\n",
    "random_y = np.random.randint(1, 101, 100)\n",
    "\n",
    "data = [go.Scatter(x = random_x,\n",
    "                   y = random_y,\n",
    "                   mode = 'markers',\n",
    "                   marker = dict(\n",
    "                                size = 12,\n",
    "                                color = 'rgb(51, 204, 153)',\n",
    "                                symbol = 'pentagon',\n",
    "                                line = {'width' : 2}))]\n",
    "                                \n",
    "layout = go.Layout(title = 'Hello First Plot', \n",
    "                        xaxis = {'title' : 'My X axis'},\n",
    "                        yaxis = dict(title = 'My Y axis'),\n",
    "                        hovermode = 'closest')\n",
    "\n",
    "fig = go.Figure(data = data, layout = layout)\n",
    "pyo.plot(fig, filename='scatter.html')"
   ]
  },
  {
   "cell_type": "code",
   "execution_count": 3,
   "metadata": {},
   "outputs": [
    {
     "data": {
      "text/plain": "'file:///Users/daianeklein/Documents/Data Science/Data-Viz/Plotly-Dash/Plotly-Dash/data-viz/temp-plot.html'"
     },
     "execution_count": 3,
     "metadata": {},
     "output_type": "execute_result"
    }
   ],
   "source": [
    "np.random.seed(56)\n",
    "\n",
    "x_values = np.linspace(0, 1, 100)\n",
    "y_values = np.random.randn(100)\n",
    "\n",
    "trace0 = go.Scatter(x = x_values, y = y_values + 5,\n",
    "                mode = 'markers',\n",
    "                name = 'markers')\n",
    "\n",
    "trace1 = go.Scatter(x = x_values,\n",
    "                y = y_values,\n",
    "                mode = 'lines',\n",
    "                name = 'mylines')\n",
    "\n",
    "trace2 = go.Scatter(x = x_values,\n",
    "                y = y_values -5,\n",
    "                mode = 'lines+markers',\n",
    "                name = 'my favorite'\n",
    "                )\n",
    "\n",
    "data = [trace0, trace1, trace2]\n",
    "layout = go.Layout(title ='Line Charts')\n",
    "fig = go.Figure(data = data, layout = layout)\n",
    "pyo.plot(fig)"
   ]
  },
  {
   "cell_type": "markdown",
   "metadata": {},
   "source": [
    "# WITH PANDAS"
   ]
  },
  {
   "cell_type": "code",
   "execution_count": 4,
   "metadata": {},
   "outputs": [],
   "source": [
    "df = pd.read_csv('/Users/daianeklein/Documents/Data Science/Data-Viz/Plotly-Dash/Plotly-Dash/Plotly-Dashboards-with-Dash/SourceData/nst-est2017-alldata.csv')"
   ]
  },
  {
   "cell_type": "code",
   "execution_count": 5,
   "metadata": {},
   "outputs": [
    {
     "data": {
      "text/html": "<div>\n<style scoped>\n    .dataframe tbody tr th:only-of-type {\n        vertical-align: middle;\n    }\n\n    .dataframe tbody tr th {\n        vertical-align: top;\n    }\n\n    .dataframe thead th {\n        text-align: right;\n    }\n</style>\n<table border=\"1\" class=\"dataframe\">\n  <thead>\n    <tr style=\"text-align: right;\">\n      <th></th>\n      <th>SUMLEV</th>\n      <th>REGION</th>\n      <th>DIVISION</th>\n      <th>STATE</th>\n      <th>NAME</th>\n      <th>CENSUS2010POP</th>\n      <th>ESTIMATESBASE2010</th>\n      <th>POPESTIMATE2010</th>\n      <th>POPESTIMATE2011</th>\n      <th>POPESTIMATE2012</th>\n      <th>...</th>\n      <th>RDOMESTICMIG2015</th>\n      <th>RDOMESTICMIG2016</th>\n      <th>RDOMESTICMIG2017</th>\n      <th>RNETMIG2011</th>\n      <th>RNETMIG2012</th>\n      <th>RNETMIG2013</th>\n      <th>RNETMIG2014</th>\n      <th>RNETMIG2015</th>\n      <th>RNETMIG2016</th>\n      <th>RNETMIG2017</th>\n    </tr>\n  </thead>\n  <tbody>\n    <tr>\n      <th>0</th>\n      <td>10.0</td>\n      <td>0</td>\n      <td>0</td>\n      <td>0.0</td>\n      <td>United States</td>\n      <td>308745538.0</td>\n      <td>308758105.0</td>\n      <td>309338421.0</td>\n      <td>311644280.0</td>\n      <td>313993272.0</td>\n      <td>...</td>\n      <td>0.000000</td>\n      <td>0.000000</td>\n      <td>0.000000</td>\n      <td>2.720900</td>\n      <td>2.920371</td>\n      <td>2.883643</td>\n      <td>3.173228</td>\n      <td>3.516743</td>\n      <td>3.513394</td>\n      <td>3.423941</td>\n    </tr>\n    <tr>\n      <th>1</th>\n      <td>20.0</td>\n      <td>1</td>\n      <td>0</td>\n      <td>0.0</td>\n      <td>Northeast Region</td>\n      <td>55317240.0</td>\n      <td>55318350.0</td>\n      <td>55388349.0</td>\n      <td>55642659.0</td>\n      <td>55860261.0</td>\n      <td>...</td>\n      <td>-6.103092</td>\n      <td>-6.619089</td>\n      <td>-5.559570</td>\n      <td>1.467950</td>\n      <td>0.779137</td>\n      <td>0.605873</td>\n      <td>-0.082832</td>\n      <td>-0.903931</td>\n      <td>-1.307503</td>\n      <td>-0.288930</td>\n    </tr>\n    <tr>\n      <th>2</th>\n      <td>20.0</td>\n      <td>2</td>\n      <td>0</td>\n      <td>0.0</td>\n      <td>Midwest Region</td>\n      <td>66927001.0</td>\n      <td>66929794.0</td>\n      <td>66973360.0</td>\n      <td>67141501.0</td>\n      <td>67318295.0</td>\n      <td>...</td>\n      <td>-3.458531</td>\n      <td>-3.307295</td>\n      <td>-2.304640</td>\n      <td>-1.187519</td>\n      <td>-1.010696</td>\n      <td>-0.120354</td>\n      <td>-0.752477</td>\n      <td>-1.323952</td>\n      <td>-1.160735</td>\n      <td>-0.191323</td>\n    </tr>\n    <tr>\n      <th>3</th>\n      <td>20.0</td>\n      <td>3</td>\n      <td>0</td>\n      <td>0.0</td>\n      <td>South Region</td>\n      <td>114555744.0</td>\n      <td>114563024.0</td>\n      <td>114869241.0</td>\n      <td>116060993.0</td>\n      <td>117291728.0</td>\n      <td>...</td>\n      <td>3.788037</td>\n      <td>3.592695</td>\n      <td>2.900528</td>\n      <td>5.544289</td>\n      <td>5.831747</td>\n      <td>5.362083</td>\n      <td>6.317310</td>\n      <td>7.336162</td>\n      <td>7.113818</td>\n      <td>6.304010</td>\n    </tr>\n    <tr>\n      <th>4</th>\n      <td>20.0</td>\n      <td>4</td>\n      <td>0</td>\n      <td>0.0</td>\n      <td>West Region</td>\n      <td>71945553.0</td>\n      <td>71946937.0</td>\n      <td>72107471.0</td>\n      <td>72799127.0</td>\n      <td>73522988.0</td>\n      <td>...</td>\n      <td>1.613450</td>\n      <td>2.099001</td>\n      <td>1.475519</td>\n      <td>2.798796</td>\n      <td>3.521423</td>\n      <td>3.396627</td>\n      <td>4.163576</td>\n      <td>5.067452</td>\n      <td>5.488965</td>\n      <td>4.737979</td>\n    </tr>\n  </tbody>\n</table>\n<p>5 rows × 121 columns</p>\n</div>",
      "text/plain": "   SUMLEV REGION DIVISION  STATE              NAME  CENSUS2010POP  \\\n0    10.0      0        0    0.0     United States    308745538.0   \n1    20.0      1        0    0.0  Northeast Region     55317240.0   \n2    20.0      2        0    0.0    Midwest Region     66927001.0   \n3    20.0      3        0    0.0      South Region    114555744.0   \n4    20.0      4        0    0.0       West Region     71945553.0   \n\n   ESTIMATESBASE2010  POPESTIMATE2010  POPESTIMATE2011  POPESTIMATE2012  ...  \\\n0        308758105.0      309338421.0      311644280.0      313993272.0  ...   \n1         55318350.0       55388349.0       55642659.0       55860261.0  ...   \n2         66929794.0       66973360.0       67141501.0       67318295.0  ...   \n3        114563024.0      114869241.0      116060993.0      117291728.0  ...   \n4         71946937.0       72107471.0       72799127.0       73522988.0  ...   \n\n   RDOMESTICMIG2015  RDOMESTICMIG2016  RDOMESTICMIG2017  RNETMIG2011  \\\n0          0.000000          0.000000          0.000000     2.720900   \n1         -6.103092         -6.619089         -5.559570     1.467950   \n2         -3.458531         -3.307295         -2.304640    -1.187519   \n3          3.788037          3.592695          2.900528     5.544289   \n4          1.613450          2.099001          1.475519     2.798796   \n\n   RNETMIG2012  RNETMIG2013  RNETMIG2014  RNETMIG2015  RNETMIG2016  \\\n0     2.920371     2.883643     3.173228     3.516743     3.513394   \n1     0.779137     0.605873    -0.082832    -0.903931    -1.307503   \n2    -1.010696    -0.120354    -0.752477    -1.323952    -1.160735   \n3     5.831747     5.362083     6.317310     7.336162     7.113818   \n4     3.521423     3.396627     4.163576     5.067452     5.488965   \n\n   RNETMIG2017  \n0     3.423941  \n1    -0.288930  \n2    -0.191323  \n3     6.304010  \n4     4.737979  \n\n[5 rows x 121 columns]"
     },
     "execution_count": 5,
     "metadata": {},
     "output_type": "execute_result"
    }
   ],
   "source": [
    "df.head()"
   ]
  },
  {
   "cell_type": "code",
   "execution_count": 6,
   "metadata": {},
   "outputs": [
    {
     "data": {
      "text/plain": "(59, 121)"
     },
     "execution_count": 6,
     "metadata": {},
     "output_type": "execute_result"
    }
   ],
   "source": [
    "df.shape"
   ]
  },
  {
   "cell_type": "code",
   "execution_count": 7,
   "metadata": {},
   "outputs": [
    {
     "data": {
      "text/html": "<div>\n<style scoped>\n    .dataframe tbody tr th:only-of-type {\n        vertical-align: middle;\n    }\n\n    .dataframe tbody tr th {\n        vertical-align: top;\n    }\n\n    .dataframe thead th {\n        text-align: right;\n    }\n</style>\n<table border=\"1\" class=\"dataframe\">\n  <thead>\n    <tr style=\"text-align: right;\">\n      <th></th>\n      <th>POPESTIMATE2010</th>\n      <th>POPESTIMATE2011</th>\n      <th>POPESTIMATE2012</th>\n      <th>POPESTIMATE2013</th>\n      <th>POPESTIMATE2014</th>\n      <th>POPESTIMATE2015</th>\n      <th>POPESTIMATE2016</th>\n      <th>POPESTIMATE2017</th>\n    </tr>\n    <tr>\n      <th>NAME</th>\n      <th></th>\n      <th></th>\n      <th></th>\n      <th></th>\n      <th></th>\n      <th></th>\n      <th></th>\n      <th></th>\n    </tr>\n  </thead>\n  <tbody>\n    <tr>\n      <th>Connecticut</th>\n      <td>3580171.0</td>\n      <td>3591927.0</td>\n      <td>3597705.0</td>\n      <td>3602470.0</td>\n      <td>3600188.0</td>\n      <td>3593862.0</td>\n      <td>3587685.0</td>\n      <td>3588184.0</td>\n    </tr>\n    <tr>\n      <th>Maine</th>\n      <td>1327568.0</td>\n      <td>1327968.0</td>\n      <td>1328101.0</td>\n      <td>1327975.0</td>\n      <td>1328903.0</td>\n      <td>1327787.0</td>\n      <td>1330232.0</td>\n      <td>1335907.0</td>\n    </tr>\n    <tr>\n      <th>Massachusetts</th>\n      <td>6564943.0</td>\n      <td>6612178.0</td>\n      <td>6659627.0</td>\n      <td>6711138.0</td>\n      <td>6757925.0</td>\n      <td>6794002.0</td>\n      <td>6823721.0</td>\n      <td>6859819.0</td>\n    </tr>\n    <tr>\n      <th>New Hampshire</th>\n      <td>1316700.0</td>\n      <td>1318345.0</td>\n      <td>1320923.0</td>\n      <td>1322622.0</td>\n      <td>1328684.0</td>\n      <td>1330134.0</td>\n      <td>1335015.0</td>\n      <td>1342795.0</td>\n    </tr>\n    <tr>\n      <th>Rhode Island</th>\n      <td>1053169.0</td>\n      <td>1052154.0</td>\n      <td>1052761.0</td>\n      <td>1052784.0</td>\n      <td>1054782.0</td>\n      <td>1055916.0</td>\n      <td>1057566.0</td>\n      <td>1059639.0</td>\n    </tr>\n  </tbody>\n</table>\n</div>",
      "text/plain": "               POPESTIMATE2010  POPESTIMATE2011  POPESTIMATE2012  \\\nNAME                                                               \nConnecticut          3580171.0        3591927.0        3597705.0   \nMaine                1327568.0        1327968.0        1328101.0   \nMassachusetts        6564943.0        6612178.0        6659627.0   \nNew Hampshire        1316700.0        1318345.0        1320923.0   \nRhode Island         1053169.0        1052154.0        1052761.0   \n\n               POPESTIMATE2013  POPESTIMATE2014  POPESTIMATE2015  \\\nNAME                                                               \nConnecticut          3602470.0        3600188.0        3593862.0   \nMaine                1327975.0        1328903.0        1327787.0   \nMassachusetts        6711138.0        6757925.0        6794002.0   \nNew Hampshire        1322622.0        1328684.0        1330134.0   \nRhode Island         1052784.0        1054782.0        1055916.0   \n\n               POPESTIMATE2016  POPESTIMATE2017  \nNAME                                             \nConnecticut          3587685.0        3588184.0  \nMaine                1330232.0        1335907.0  \nMassachusetts        6823721.0        6859819.0  \nNew Hampshire        1335015.0        1342795.0  \nRhode Island         1057566.0        1059639.0  "
     },
     "execution_count": 7,
     "metadata": {},
     "output_type": "execute_result"
    }
   ],
   "source": [
    "df2 = df[df['DIVISION'] == '1']\n",
    "df2.set_index('NAME', inplace = True)\n",
    "\n",
    "list_of_pop_col = [col for col in df2.columns if col.startswith('POP')]\n",
    "df2 = df2[list_of_pop_col]\n",
    "\n",
    "df2.head()"
   ]
  },
  {
   "cell_type": "code",
   "execution_count": 8,
   "metadata": {},
   "outputs": [
    {
     "data": {
      "text/plain": "'file:///Users/daianeklein/Documents/Data Science/Data-Viz/Plotly-Dash/Plotly-Dash/data-viz/temp-plot.html'"
     },
     "execution_count": 8,
     "metadata": {},
     "output_type": "execute_result"
    }
   ],
   "source": [
    "data = [go.Scatter(x = df2.columns,\n",
    "                y= df2.loc[name],\n",
    "                mode = 'lines',\n",
    "                name = name) for name in df2.index]\n",
    "\n",
    "pyo.plot(data)"
   ]
  },
  {
   "cell_type": "markdown",
   "metadata": {},
   "source": [
    "## EXERCISE 01"
   ]
  },
  {
   "cell_type": "code",
   "execution_count": 9,
   "metadata": {},
   "outputs": [],
   "source": [
    "df = pd.read_csv('/Users/daianeklein/Documents/Data Science/Data-Viz/Plotly-Dash/Plotly-Dash/Plotly-Dashboards-with-Dash/Data/2010YumaAZ.csv')"
   ]
  },
  {
   "cell_type": "code",
   "execution_count": 10,
   "metadata": {},
   "outputs": [
    {
     "data": {
      "text/plain": "array(['TUESDAY', 'WEDNESDAY', 'THURSDAY', 'FRIDAY', 'SATURDAY', 'SUNDAY',\n       'MONDAY'], dtype=object)"
     },
     "execution_count": 10,
     "metadata": {},
     "output_type": "execute_result"
    }
   ],
   "source": [
    "days = ['TUESDAY', 'WEDNESDAY', 'THURSDAY', 'FRIDAY', 'SATURDAY', 'SUNDAY', 'MONDAY']\n",
    "df['DAY'].unique()"
   ]
  },
  {
   "cell_type": "code",
   "execution_count": 11,
   "metadata": {},
   "outputs": [
    {
     "data": {
      "text/html": "<div>\n<style scoped>\n    .dataframe tbody tr th:only-of-type {\n        vertical-align: middle;\n    }\n\n    .dataframe tbody tr th {\n        vertical-align: top;\n    }\n\n    .dataframe thead th {\n        text-align: right;\n    }\n</style>\n<table border=\"1\" class=\"dataframe\">\n  <thead>\n    <tr style=\"text-align: right;\">\n      <th></th>\n      <th>DAY</th>\n      <th>T_HR_AVG</th>\n      <th>LST_TIME</th>\n    </tr>\n  </thead>\n  <tbody>\n    <tr>\n      <th>0</th>\n      <td>TUESDAY</td>\n      <td>25.2</td>\n      <td>0:00</td>\n    </tr>\n    <tr>\n      <th>1</th>\n      <td>TUESDAY</td>\n      <td>24.1</td>\n      <td>1:00</td>\n    </tr>\n  </tbody>\n</table>\n</div>",
      "text/plain": "       DAY  T_HR_AVG LST_TIME\n0  TUESDAY      25.2     0:00\n1  TUESDAY      24.1     1:00"
     },
     "execution_count": 11,
     "metadata": {},
     "output_type": "execute_result"
    }
   ],
   "source": [
    "df2 = df[['DAY', 'T_HR_AVG', 'LST_TIME']]\n",
    "df2.head(2)"
   ]
  },
  {
   "cell_type": "code",
   "execution_count": 12,
   "metadata": {},
   "outputs": [
    {
     "data": {
      "text/plain": "'file:///Users/daianeklein/Documents/Data Science/Data-Viz/Plotly-Dash/Plotly-Dash/data-viz/temp-plot.html'"
     },
     "execution_count": 12,
     "metadata": {},
     "output_type": "execute_result"
    }
   ],
   "source": [
    "trace = go.Scatter(x = df2['LST_TIME'],y= df2['T_HR_AVG'], mode = 'lines')\n",
    "\n",
    "data = [trace]\n",
    "layout = go.Layout(title = 'Line Charts')\n",
    "fig = go.Figure(data = data, layout = layout)\n",
    "pyo.plot(fig)"
   ]
  },
  {
   "cell_type": "code",
   "execution_count": 13,
   "metadata": {},
   "outputs": [
    {
     "data": {
      "text/plain": "'file:///Users/daianeklein/Documents/Data Science/Data-Viz/Plotly-Dash/Plotly-Dash/data-viz/temp-plot.html'"
     },
     "execution_count": 13,
     "metadata": {},
     "output_type": "execute_result"
    }
   ],
   "source": [
    "data = []\n",
    "\n",
    "for d in days:\n",
    "    trace = go.Scatter(x = df2['LST_TIME'],  y= df2[df2['DAY'] == d]['T_HR_AVG'], mode = 'lines')\n",
    "    data.append(trace)\n",
    "\n",
    "layout = go.Layout(title = 'Daily Temperature AVG')\n",
    "fig = go.Figure(data = data, layout = layout)\n",
    "pyo.plot(fig)"
   ]
  },
  {
   "cell_type": "markdown",
   "metadata": {},
   "source": [
    "### SOLUTION II"
   ]
  },
  {
   "cell_type": "code",
   "execution_count": 14,
   "metadata": {},
   "outputs": [
    {
     "data": {
      "text/plain": "'file:///Users/daianeklein/Documents/Data Science/Data-Viz/Plotly-Dash/Plotly-Dash/data-viz/temp-plot.html'"
     },
     "execution_count": 14,
     "metadata": {},
     "output_type": "execute_result"
    }
   ],
   "source": [
    "data =[{\n",
    "    'x' : df2['LST_TIME'],\n",
    "    'y' : df2[df2['DAY'] == day]['T_HR_AVG'],\n",
    "    'name' : day} for day in df['DAY'].unique()]\n",
    "\n",
    "layout = go.Layout(title ='Daily Temperatura AVG')\n",
    "fig = go.Figure(data = data, layout = layout)\n",
    "pyo.plot(fig)"
   ]
  },
  {
   "cell_type": "code",
   "execution_count": 15,
   "metadata": {},
   "outputs": [],
   "source": [
    "## barplot\n",
    "\n",
    "df = pd.read_csv('/Users/daianeklein/Documents/Data Science/Data-Viz/Plotly-Dash/Plotly-Dash/Plotly-Dashboards-with-Dash/Data/2018WinterOlympics.csv')"
   ]
  },
  {
   "cell_type": "code",
   "execution_count": 31,
   "metadata": {},
   "outputs": [
    {
     "data": {
      "text/plain": "'file:///Users/daianeklein/Documents/Data Science/Data-Viz/Plotly-Dash/Plotly-Dash/data-viz/temp-plot.html'"
     },
     "execution_count": 31,
     "metadata": {},
     "output_type": "execute_result"
    }
   ],
   "source": [
    "data = [go.Bar(x = df['NOC'], y = df['Total'])]\n",
    "layout = go.Layout(title = 'Medals')\n",
    "fig = go.Figure(data = data, layout = layout)\n",
    "pyo.plot(fig)"
   ]
  },
  {
   "cell_type": "code",
   "execution_count": 32,
   "metadata": {},
   "outputs": [
    {
     "data": {
      "text/plain": "'file:///Users/daianeklein/Documents/Data Science/Data-Viz/Plotly-Dash/Plotly-Dash/data-viz/temp-plot.html'"
     },
     "execution_count": 32,
     "metadata": {},
     "output_type": "execute_result"
    }
   ],
   "source": [
    "trace1 = go.Bar(x =df['NOC'], y = df['Gold'], name='Gold', marker = {'color' : '#FFD700'})\n",
    "trace2 = go.Bar(x =df['NOC'], y = df['Silver'], name='Silver', marker = {'color' : '#9EA0A1'})\n",
    "trace3 = go.Bar(x =df['NOC'], y = df['Bronze'], name='Bronze', marker = {'color' : '#CD7F32'})\n",
    "\n",
    "data = [trace1, trace2, trace3]\n",
    "layout = go.Layout(title = 'Medals', barmode = 'stack')\n",
    "fig = go.Figure(data = data, layout = layout)\n",
    "pyo.plot(fig)"
   ]
  },
  {
   "cell_type": "code",
   "execution_count": 33,
   "metadata": {},
   "outputs": [
    {
     "data": {
      "text/plain": "'file:///Users/daianeklein/Documents/Data Science/Data-Viz/Plotly-Dash/Plotly-Dash/data-viz/temp-plot.html'"
     },
     "execution_count": 33,
     "metadata": {},
     "output_type": "execute_result"
    }
   ],
   "source": [
    "trace1 = go.Bar(x =df['NOC'], y = df['Gold'], name='Gold', marker = {'color' : '#FFD700'})\n",
    "trace2 = go.Bar(x =df['NOC'], y = df['Silver'], name='Silver', marker = {'color' : '#9EA0A1'})\n",
    "trace3 = go.Bar(x =df['NOC'], y = df['Bronze'], name='Bronze', marker = {'color' : '#CD7F32'})\n",
    "\n",
    "data = [trace1, trace2, trace3]\n",
    "layout = go.Layout(title = 'Medals')\n",
    "fig = go.Figure(data = data, layout = layout)\n",
    "pyo.plot(fig)"
   ]
  },
  {
   "cell_type": "code",
   "execution_count": 40,
   "metadata": {},
   "outputs": [
    {
     "data": {
      "text/html": "<div>\n<style scoped>\n    .dataframe tbody tr th:only-of-type {\n        vertical-align: middle;\n    }\n\n    .dataframe tbody tr th {\n        vertical-align: top;\n    }\n\n    .dataframe thead th {\n        text-align: right;\n    }\n</style>\n<table border=\"1\" class=\"dataframe\">\n  <thead>\n    <tr style=\"text-align: right;\">\n      <th></th>\n      <th>Strongly Agree</th>\n      <th>Somewhat Agree</th>\n      <th>Neutral</th>\n      <th>Somewhat Disagree</th>\n      <th>Strongly Disagree</th>\n    </tr>\n  </thead>\n  <tbody>\n    <tr>\n      <th>Question 1</th>\n      <td>0.45</td>\n      <td>0.25</td>\n      <td>0.10</td>\n      <td>0.12</td>\n      <td>0.08</td>\n    </tr>\n    <tr>\n      <th>Question 2</th>\n      <td>0.12</td>\n      <td>0.07</td>\n      <td>0.48</td>\n      <td>0.18</td>\n      <td>0.15</td>\n    </tr>\n    <tr>\n      <th>Question 3</th>\n      <td>0.05</td>\n      <td>0.22</td>\n      <td>0.19</td>\n      <td>0.23</td>\n      <td>0.31</td>\n    </tr>\n  </tbody>\n</table>\n</div>",
      "text/plain": "            Strongly Agree  Somewhat Agree  Neutral  Somewhat Disagree  \\\nQuestion 1            0.45            0.25     0.10               0.12   \nQuestion 2            0.12            0.07     0.48               0.18   \nQuestion 3            0.05            0.22     0.19               0.23   \n\n            Strongly Disagree  \nQuestion 1               0.08  \nQuestion 2               0.15  \nQuestion 3               0.31  "
     },
     "execution_count": 40,
     "metadata": {},
     "output_type": "execute_result"
    }
   ],
   "source": [
    "df= pd.read_csv('/Users/daianeklein/Documents/Data Science/Data-Viz/Plotly-Dash/Plotly-Dash/Plotly-Dashboards-with-Dash/Data/mocksurvey.csv', index_col = 0)\n",
    "df.head()"
   ]
  },
  {
   "cell_type": "code",
   "execution_count": null,
   "metadata": {},
   "outputs": [],
   "source": [
    "data = [go.Bar(x = df.index) for r df.columns]\n",
    "\n",
    "\n",
    "trace1 = go.Bar(x =df['NOC'], y = df['Gold'], name='Gold', marker = {'color' : '#FFD700'})\n",
    "trace2 = go.Bar(x =df['NOC'], y = df['Silver'], name='Silver', marker = {'color' : '#9EA0A1'})\n",
    "trace3 = go.Bar(x =df['NOC'], y = df['Bronze'], name='Bronze', marker = {'color' : '#CD7F32'})\n",
    "\n",
    "data = [trace1, trace2, trace3]\n",
    "layout = go.Layout(title = 'Medals', barmode = 'stack')\n",
    "fig = go.Figure(data = data, layout = layout)\n",
    "pyo.plot(fig)"
   ]
  },
  {
   "cell_type": "code",
   "execution_count": 50,
   "metadata": {},
   "outputs": [
    {
     "data": {
      "text/plain": "'file:///Users/daianeklein/Documents/Data Science/Data-Viz/Plotly-Dash/Plotly-Dash/data-viz/temp-plot.html'"
     },
     "execution_count": 50,
     "metadata": {},
     "output_type": "execute_result"
    }
   ],
   "source": [
    "data = [go.Bar(x = df.index, y = df[response], name = response) for response in df.columns]\n",
    "\n",
    "layout = go.Layout(title='Survey Results', barmode = 'stack')\n",
    "\n",
    "fig = go.Figure(data = data, layout = layout)\n",
    "pyo.plot(fig)"
   ]
  },
  {
   "cell_type": "code",
   "execution_count": 51,
   "metadata": {},
   "outputs": [
    {
     "data": {
      "text/plain": "'file:///Users/daianeklein/Documents/Data Science/Data-Viz/Plotly-Dash/Plotly-Dash/data-viz/temp-plot.html'"
     },
     "execution_count": 51,
     "metadata": {},
     "output_type": "execute_result"
    }
   ],
   "source": [
    "data = [go.Bar(x = df[response], y = df.index, orientation ='h', name = response) for response in df.columns]\n",
    "\n",
    "layout = go.Layout(title='Survey Results', barmode = 'stack')\n",
    "\n",
    "fig = go.Figure(data = data, layout = layout)\n",
    "pyo.plot(fig)"
   ]
  },
  {
   "cell_type": "markdown",
   "metadata": {},
   "source": [
    "# BUBBLE CHART"
   ]
  },
  {
   "cell_type": "code",
   "execution_count": 52,
   "metadata": {},
   "outputs": [
    {
     "data": {
      "text/html": "<div>\n<style scoped>\n    .dataframe tbody tr th:only-of-type {\n        vertical-align: middle;\n    }\n\n    .dataframe tbody tr th {\n        vertical-align: top;\n    }\n\n    .dataframe thead th {\n        text-align: right;\n    }\n</style>\n<table border=\"1\" class=\"dataframe\">\n  <thead>\n    <tr style=\"text-align: right;\">\n      <th></th>\n      <th>mpg</th>\n      <th>cylinders</th>\n      <th>displacement</th>\n      <th>horsepower</th>\n      <th>weight</th>\n      <th>acceleration</th>\n      <th>model_year</th>\n      <th>origin</th>\n      <th>name</th>\n    </tr>\n  </thead>\n  <tbody>\n    <tr>\n      <th>0</th>\n      <td>18.0</td>\n      <td>8</td>\n      <td>307.0</td>\n      <td>130</td>\n      <td>3504</td>\n      <td>12.0</td>\n      <td>70</td>\n      <td>1</td>\n      <td>chevrolet chevelle malibu</td>\n    </tr>\n    <tr>\n      <th>1</th>\n      <td>15.0</td>\n      <td>8</td>\n      <td>350.0</td>\n      <td>165</td>\n      <td>3693</td>\n      <td>11.5</td>\n      <td>70</td>\n      <td>1</td>\n      <td>buick skylark 320</td>\n    </tr>\n    <tr>\n      <th>2</th>\n      <td>18.0</td>\n      <td>8</td>\n      <td>318.0</td>\n      <td>150</td>\n      <td>3436</td>\n      <td>11.0</td>\n      <td>70</td>\n      <td>1</td>\n      <td>plymouth satellite</td>\n    </tr>\n    <tr>\n      <th>3</th>\n      <td>16.0</td>\n      <td>8</td>\n      <td>304.0</td>\n      <td>150</td>\n      <td>3433</td>\n      <td>12.0</td>\n      <td>70</td>\n      <td>1</td>\n      <td>amc rebel sst</td>\n    </tr>\n    <tr>\n      <th>4</th>\n      <td>17.0</td>\n      <td>8</td>\n      <td>302.0</td>\n      <td>140</td>\n      <td>3449</td>\n      <td>10.5</td>\n      <td>70</td>\n      <td>1</td>\n      <td>ford torino</td>\n    </tr>\n  </tbody>\n</table>\n</div>",
      "text/plain": "    mpg  cylinders  displacement horsepower  weight  acceleration  model_year  \\\n0  18.0          8         307.0        130    3504          12.0          70   \n1  15.0          8         350.0        165    3693          11.5          70   \n2  18.0          8         318.0        150    3436          11.0          70   \n3  16.0          8         304.0        150    3433          12.0          70   \n4  17.0          8         302.0        140    3449          10.5          70   \n\n   origin                       name  \n0       1  chevrolet chevelle malibu  \n1       1          buick skylark 320  \n2       1         plymouth satellite  \n3       1              amc rebel sst  \n4       1                ford torino  "
     },
     "execution_count": 52,
     "metadata": {},
     "output_type": "execute_result"
    }
   ],
   "source": [
    "df = pd.read_csv('/Users/daianeklein/Documents/Data Science/Data-Viz/Plotly-Dash/Plotly-Dash/Plotly-Dashboards-with-Dash/Data/mpg.csv')\n",
    "df.head()"
   ]
  },
  {
   "cell_type": "code",
   "execution_count": 55,
   "metadata": {},
   "outputs": [
    {
     "data": {
      "text/plain": "'file:///Users/daianeklein/Documents/Data Science/Data-Viz/Plotly-Dash/Plotly-Dash/data-viz/temp-plot.html'"
     },
     "execution_count": 55,
     "metadata": {},
     "output_type": "execute_result"
    }
   ],
   "source": [
    "data = [go.Scatter(x =df['horsepower'], y = df['mpg'], text = df['name'], mode = 'markers',\n",
    "marker =dict(size = 3 * df['cylinders']))]\n",
    "\n",
    "layout = go.Layout(title = 'Bubble Chart')\n",
    "fig = go.Figure(data=data, layout = layout)\n",
    "pyo.plot(fig)"
   ]
  },
  {
   "cell_type": "code",
   "execution_count": 60,
   "metadata": {},
   "outputs": [
    {
     "data": {
      "text/plain": "'file:///Users/daianeklein/Documents/Data Science/Data-Viz/Plotly-Dash/Plotly-Dash/data-viz/temp-plot.html'"
     },
     "execution_count": 60,
     "metadata": {},
     "output_type": "execute_result"
    }
   ],
   "source": [
    "data = [go.Scatter(x =df['horsepower'],\n",
    "                y = df['mpg'],\n",
    "                text = df['name'],\n",
    "                mode = 'markers',\n",
    "                marker =dict(size = df['weight'] / 180,\n",
    "                color = df['cylinders'],\n",
    "                showscale = True))]\n",
    "\n",
    "layout = go.Layout(title = 'Bubble Chart')\n",
    "fig = go.Figure(data=data, layout = layout)\n",
    "pyo.plot(fig)"
   ]
  },
  {
   "cell_type": "code",
   "execution_count": 61,
   "metadata": {},
   "outputs": [
    {
     "data": {
      "text/plain": "'file:///Users/daianeklein/Documents/Data Science/Data-Viz/Plotly-Dash/Plotly-Dash/data-viz/temp-plot.html'"
     },
     "execution_count": 61,
     "metadata": {},
     "output_type": "execute_result"
    }
   ],
   "source": [
    "data = [go.Scatter(x =df['horsepower'],\n",
    "                y = df['mpg'],\n",
    "                text = df['name'],\n",
    "                mode = 'markers',\n",
    "                marker =dict(size = df['weight'] / 180,\n",
    "                color = df['cylinders'],\n",
    "                showscale = True))]\n",
    "\n",
    "layout = go.Layout(title = 'Bubble Chart', hovermode = 'closest')\n",
    "fig = go.Figure(data=data, layout = layout)\n",
    "pyo.plot(fig)"
   ]
  },
  {
   "cell_type": "markdown",
   "metadata": {},
   "source": [
    "## EXERCISE"
   ]
  },
  {
   "cell_type": "code",
   "execution_count": 66,
   "metadata": {},
   "outputs": [
    {
     "data": {
      "text/plain": "'file:///Users/daianeklein/Documents/Data Science/Data-Viz/Plotly-Dash/Plotly-Dash/data-viz/temp-plot.html'"
     },
     "execution_count": 66,
     "metadata": {},
     "output_type": "execute_result"
    }
   ],
   "source": [
    "data = [go.Scatter(x=df['displacement'],\n",
    "                y = df['acceleration'],\n",
    "                text = df['name'],\n",
    "                mode = 'markers',\n",
    "                marker = dict(size = df['weight'] / 300))]\n",
    "\n",
    "layout = go.Layout(title = 'My Bubble Solution', hovermode = 'closest')\n",
    "fig = go.Figure(data = data, layout = layout)\n",
    "pyo.plot(fig)"
   ]
  },
  {
   "cell_type": "markdown",
   "metadata": {},
   "source": [
    "# BOXPLOT"
   ]
  },
  {
   "cell_type": "code",
   "execution_count": 69,
   "metadata": {},
   "outputs": [
    {
     "data": {
      "text/plain": "'file:///Users/daianeklein/Documents/Data Science/Data-Viz/Plotly-Dash/Plotly-Dash/data-viz/temp-plot.html'"
     },
     "execution_count": 69,
     "metadata": {},
     "output_type": "execute_result"
    }
   ],
   "source": [
    "y = [1,14,14,15,16,18,18,19,19,20,20,23,24,26,27,27,28,29,33,54]\n",
    "\n",
    "data = [go.Box(y=y, boxpoints='all' , jitter =0.3, pointpos = 0 )]\n",
    "pyo.plot(data)"
   ]
  },
  {
   "cell_type": "code",
   "execution_count": 70,
   "metadata": {},
   "outputs": [
    {
     "data": {
      "text/plain": "'file:///Users/daianeklein/Documents/Data Science/Data-Viz/Plotly-Dash/Plotly-Dash/data-viz/temp-plot.html'"
     },
     "execution_count": 70,
     "metadata": {},
     "output_type": "execute_result"
    }
   ],
   "source": [
    "y = [1,14,14,15,16,18,18,19,19,20,20,23,24,26,27,27,28,29,33,54]\n",
    "\n",
    "data = [go.Box(y=y, boxpoints='outliers')]\n",
    "pyo.plot(data)\n"
   ]
  },
  {
   "cell_type": "markdown",
   "metadata": {},
   "source": [
    "## Quintus Curtius Snodgrass and Mark Twain"
   ]
  },
  {
   "cell_type": "code",
   "execution_count": 71,
   "metadata": {},
   "outputs": [
    {
     "data": {
      "text/plain": "'file:///Users/daianeklein/Documents/Data Science/Data-Viz/Plotly-Dash/Plotly-Dash/data-viz/temp-plot.html'"
     },
     "execution_count": 71,
     "metadata": {},
     "output_type": "execute_result"
    }
   ],
   "source": [
    "snodgrass = [.209,.205,.196,.210,.202,.207,.224,.223,.220,.201]\n",
    "twain = [.225,.262,.217,.240,.230,.229,.235,.217]\n",
    "\n",
    "data = [go.Box(y=snodgrass, name = 'Snodgrass'),\n",
    "        go.Box(y=twain, name = 'Twain')]\n",
    "        \n",
    "pyo.plot(data)"
   ]
  },
  {
   "cell_type": "markdown",
   "metadata": {},
   "source": [
    "## EXERCISE II"
   ]
  },
  {
   "cell_type": "code",
   "execution_count": 73,
   "metadata": {},
   "outputs": [
    {
     "data": {
      "text/html": "<div>\n<style scoped>\n    .dataframe tbody tr th:only-of-type {\n        vertical-align: middle;\n    }\n\n    .dataframe tbody tr th {\n        vertical-align: top;\n    }\n\n    .dataframe thead th {\n        text-align: right;\n    }\n</style>\n<table border=\"1\" class=\"dataframe\">\n  <thead>\n    <tr style=\"text-align: right;\">\n      <th></th>\n      <th>sex</th>\n      <th>length</th>\n      <th>diameter</th>\n      <th>height</th>\n      <th>whole_weight</th>\n      <th>shucked_weight</th>\n      <th>viscera_weight</th>\n      <th>shell_weight</th>\n      <th>rings</th>\n    </tr>\n  </thead>\n  <tbody>\n    <tr>\n      <th>0</th>\n      <td>M</td>\n      <td>0.455</td>\n      <td>0.365</td>\n      <td>0.095</td>\n      <td>0.5140</td>\n      <td>0.2245</td>\n      <td>0.1010</td>\n      <td>0.150</td>\n      <td>15</td>\n    </tr>\n    <tr>\n      <th>1</th>\n      <td>M</td>\n      <td>0.350</td>\n      <td>0.265</td>\n      <td>0.090</td>\n      <td>0.2255</td>\n      <td>0.0995</td>\n      <td>0.0485</td>\n      <td>0.070</td>\n      <td>7</td>\n    </tr>\n    <tr>\n      <th>2</th>\n      <td>F</td>\n      <td>0.530</td>\n      <td>0.420</td>\n      <td>0.135</td>\n      <td>0.6770</td>\n      <td>0.2565</td>\n      <td>0.1415</td>\n      <td>0.210</td>\n      <td>9</td>\n    </tr>\n    <tr>\n      <th>3</th>\n      <td>M</td>\n      <td>0.440</td>\n      <td>0.365</td>\n      <td>0.125</td>\n      <td>0.5160</td>\n      <td>0.2155</td>\n      <td>0.1140</td>\n      <td>0.155</td>\n      <td>10</td>\n    </tr>\n    <tr>\n      <th>4</th>\n      <td>I</td>\n      <td>0.330</td>\n      <td>0.255</td>\n      <td>0.080</td>\n      <td>0.2050</td>\n      <td>0.0895</td>\n      <td>0.0395</td>\n      <td>0.055</td>\n      <td>7</td>\n    </tr>\n  </tbody>\n</table>\n</div>",
      "text/plain": "  sex  length  diameter  height  whole_weight  shucked_weight  viscera_weight  \\\n0   M   0.455     0.365   0.095        0.5140          0.2245          0.1010   \n1   M   0.350     0.265   0.090        0.2255          0.0995          0.0485   \n2   F   0.530     0.420   0.135        0.6770          0.2565          0.1415   \n3   M   0.440     0.365   0.125        0.5160          0.2155          0.1140   \n4   I   0.330     0.255   0.080        0.2050          0.0895          0.0395   \n\n   shell_weight  rings  \n0         0.150     15  \n1         0.070      7  \n2         0.210      9  \n3         0.155     10  \n4         0.055      7  "
     },
     "execution_count": 73,
     "metadata": {},
     "output_type": "execute_result"
    }
   ],
   "source": [
    "df = pd.read_csv('/Users/daianeklein/Documents/Data Science/Data-Viz/Plotly-Dash/Plotly-Dash/Plotly-Dashboards-with-Dash/Data/abalone.csv')\n",
    "df.head()"
   ]
  },
  {
   "cell_type": "code",
   "execution_count": 75,
   "metadata": {},
   "outputs": [
    {
     "data": {
      "text/plain": "'file:///Users/daianeklein/Documents/Data Science/Data-Viz/Plotly-Dash/Plotly-Dash/data-viz/temp-plot.html'"
     },
     "execution_count": 75,
     "metadata": {},
     "output_type": "execute_result"
    }
   ],
   "source": [
    "a = np.random.choice(df['rings'], 30, replace = False)\n",
    "b = np.random.choice(df['rings'], 20, replace = False)\n",
    "\n",
    "data = [go.Box(y = a, name = 'A'),\n",
    "        go.Box(y = b, name = 'B')]\n",
    "\n",
    "layout = go.Layout(title = '2 random samples')\n",
    "fig = go.Figure(data =  data, layout = layout)\n",
    "pyo.plot(fig)"
   ]
  },
  {
   "cell_type": "markdown",
   "metadata": {},
   "source": [
    "# HISTOGRAM"
   ]
  },
  {
   "cell_type": "code",
   "execution_count": 76,
   "metadata": {},
   "outputs": [
    {
     "data": {
      "text/html": "<div>\n<style scoped>\n    .dataframe tbody tr th:only-of-type {\n        vertical-align: middle;\n    }\n\n    .dataframe tbody tr th {\n        vertical-align: top;\n    }\n\n    .dataframe thead th {\n        text-align: right;\n    }\n</style>\n<table border=\"1\" class=\"dataframe\">\n  <thead>\n    <tr style=\"text-align: right;\">\n      <th></th>\n      <th>mpg</th>\n      <th>cylinders</th>\n      <th>displacement</th>\n      <th>horsepower</th>\n      <th>weight</th>\n      <th>acceleration</th>\n      <th>model_year</th>\n      <th>origin</th>\n      <th>name</th>\n    </tr>\n  </thead>\n  <tbody>\n    <tr>\n      <th>0</th>\n      <td>18.0</td>\n      <td>8</td>\n      <td>307.0</td>\n      <td>130</td>\n      <td>3504</td>\n      <td>12.0</td>\n      <td>70</td>\n      <td>1</td>\n      <td>chevrolet chevelle malibu</td>\n    </tr>\n    <tr>\n      <th>1</th>\n      <td>15.0</td>\n      <td>8</td>\n      <td>350.0</td>\n      <td>165</td>\n      <td>3693</td>\n      <td>11.5</td>\n      <td>70</td>\n      <td>1</td>\n      <td>buick skylark 320</td>\n    </tr>\n    <tr>\n      <th>2</th>\n      <td>18.0</td>\n      <td>8</td>\n      <td>318.0</td>\n      <td>150</td>\n      <td>3436</td>\n      <td>11.0</td>\n      <td>70</td>\n      <td>1</td>\n      <td>plymouth satellite</td>\n    </tr>\n    <tr>\n      <th>3</th>\n      <td>16.0</td>\n      <td>8</td>\n      <td>304.0</td>\n      <td>150</td>\n      <td>3433</td>\n      <td>12.0</td>\n      <td>70</td>\n      <td>1</td>\n      <td>amc rebel sst</td>\n    </tr>\n    <tr>\n      <th>4</th>\n      <td>17.0</td>\n      <td>8</td>\n      <td>302.0</td>\n      <td>140</td>\n      <td>3449</td>\n      <td>10.5</td>\n      <td>70</td>\n      <td>1</td>\n      <td>ford torino</td>\n    </tr>\n  </tbody>\n</table>\n</div>",
      "text/plain": "    mpg  cylinders  displacement horsepower  weight  acceleration  model_year  \\\n0  18.0          8         307.0        130    3504          12.0          70   \n1  15.0          8         350.0        165    3693          11.5          70   \n2  18.0          8         318.0        150    3436          11.0          70   \n3  16.0          8         304.0        150    3433          12.0          70   \n4  17.0          8         302.0        140    3449          10.5          70   \n\n   origin                       name  \n0       1  chevrolet chevelle malibu  \n1       1          buick skylark 320  \n2       1         plymouth satellite  \n3       1              amc rebel sst  \n4       1                ford torino  "
     },
     "execution_count": 76,
     "metadata": {},
     "output_type": "execute_result"
    }
   ],
   "source": [
    "df = pd.read_csv('/Users/daianeklein/Documents/Data Science/Data-Viz/Plotly-Dash/Plotly-Dash/Plotly-Dashboards-with-Dash/Data/mpg.csv')\n",
    "df.head()"
   ]
  },
  {
   "cell_type": "code",
   "execution_count": 78,
   "metadata": {},
   "outputs": [
    {
     "data": {
      "text/plain": "'file:///Users/daianeklein/Documents/Data Science/Data-Viz/Plotly-Dash/Plotly-Dash/data-viz/temp-plot.html'"
     },
     "execution_count": 78,
     "metadata": {},
     "output_type": "execute_result"
    }
   ],
   "source": [
    "data = [go.Histogram(x=df['mpg'])]\n",
    "layout = go.Layout(title='Histogram')\n",
    "fig = go.Figure(data = data, layout = layout)\n",
    "\n",
    "pyo.plot(fig)"
   ]
  },
  {
   "cell_type": "code",
   "execution_count": 80,
   "metadata": {},
   "outputs": [
    {
     "data": {
      "text/plain": "'file:///Users/daianeklein/Documents/Data Science/Data-Viz/Plotly-Dash/Plotly-Dash/data-viz/temp-plot.html'"
     },
     "execution_count": 80,
     "metadata": {},
     "output_type": "execute_result"
    }
   ],
   "source": [
    "data = [go.Histogram(x=df['mpg'], xbins = dict(start = 0, end = 50, size = 2))]\n",
    "layout = go.Layout(title='Histogram')\n",
    "fig = go.Figure(data = data, layout = layout)\n",
    "\n",
    "pyo.plot(fig)"
   ]
  },
  {
   "cell_type": "markdown",
   "metadata": {},
   "source": [
    "# DISTPLOT"
   ]
  },
  {
   "cell_type": "code",
   "execution_count": 92,
   "metadata": {},
   "outputs": [],
   "source": [
    "import plotly.figure_factory as ff\n",
    "import scipy"
   ]
  },
  {
   "cell_type": "code",
   "execution_count": 16,
   "metadata": {},
   "outputs": [
    {
     "data": {
      "text/plain": "'file:///Users/daianeklein/Documents/Data Science/Data-Viz/Plotly-Dash/Plotly-Dash/data-viz/basic_distplot.html'"
     },
     "execution_count": 16,
     "metadata": {},
     "output_type": "execute_result"
    }
   ],
   "source": [
    "import plotly.offline as pyo\n",
    "import plotly.figure_factory as ff\n",
    "import numpy as np\n",
    "\n",
    "x = np.random.randn(1000)\n",
    "hist_data = [x]\n",
    "group_labels = ['distplot']\n",
    "\n",
    "fig = ff.create_distplot(hist_data, group_labels)\n",
    "pyo.plot(fig, filename='basic_distplot.html')"
   ]
  },
  {
   "cell_type": "code",
   "execution_count": 18,
   "metadata": {},
   "outputs": [
    {
     "data": {
      "text/plain": "'file:///Users/daianeklein/Documents/Data Science/Data-Viz/Plotly-Dash/Plotly-Dash/data-viz/basic_distplot.html'"
     },
     "execution_count": 18,
     "metadata": {},
     "output_type": "execute_result"
    }
   ],
   "source": [
    "import plotly.offline as pyo\n",
    "import plotly.figure_factory as ff\n",
    "import numpy as np\n",
    "\n",
    "x1 = np.random.randn(1000)-2\n",
    "x2 = np.random.randn(1000)\n",
    "x3 = np.random.randn(1000)+2\n",
    "x4 = np.random.randn(1000)+4\n",
    "\n",
    "hist_data = [x1, x2, x3, x4]\n",
    "group_labels = ['X1', 'X2', 'X3', 'X4']\n",
    "\n",
    "fig = ff.create_distplot(hist_data, group_labels, bin_size = [2, 1, 3, 4])\n",
    "pyo.plot(fig, filename='basic_distplot.html')"
   ]
  },
  {
   "cell_type": "markdown",
   "metadata": {},
   "source": [
    "# HEATMAP"
   ]
  },
  {
   "cell_type": "code",
   "execution_count": 20,
   "metadata": {},
   "outputs": [
    {
     "data": {
      "text/html": "<div>\n<style scoped>\n    .dataframe tbody tr th:only-of-type {\n        vertical-align: middle;\n    }\n\n    .dataframe tbody tr th {\n        vertical-align: top;\n    }\n\n    .dataframe thead th {\n        text-align: right;\n    }\n</style>\n<table border=\"1\" class=\"dataframe\">\n  <thead>\n    <tr style=\"text-align: right;\">\n      <th></th>\n      <th>LST_DATE</th>\n      <th>DAY</th>\n      <th>LST_TIME</th>\n      <th>T_HR_AVG</th>\n    </tr>\n  </thead>\n  <tbody>\n    <tr>\n      <th>0</th>\n      <td>20100601</td>\n      <td>TUESDAY</td>\n      <td>0:00</td>\n      <td>12.7</td>\n    </tr>\n    <tr>\n      <th>1</th>\n      <td>20100601</td>\n      <td>TUESDAY</td>\n      <td>1:00</td>\n      <td>12.7</td>\n    </tr>\n    <tr>\n      <th>2</th>\n      <td>20100601</td>\n      <td>TUESDAY</td>\n      <td>2:00</td>\n      <td>12.3</td>\n    </tr>\n    <tr>\n      <th>3</th>\n      <td>20100601</td>\n      <td>TUESDAY</td>\n      <td>3:00</td>\n      <td>12.5</td>\n    </tr>\n    <tr>\n      <th>4</th>\n      <td>20100601</td>\n      <td>TUESDAY</td>\n      <td>4:00</td>\n      <td>12.7</td>\n    </tr>\n  </tbody>\n</table>\n</div>",
      "text/plain": "   LST_DATE      DAY LST_TIME  T_HR_AVG\n0  20100601  TUESDAY     0:00      12.7\n1  20100601  TUESDAY     1:00      12.7\n2  20100601  TUESDAY     2:00      12.3\n3  20100601  TUESDAY     3:00      12.5\n4  20100601  TUESDAY     4:00      12.7"
     },
     "execution_count": 20,
     "metadata": {},
     "output_type": "execute_result"
    }
   ],
   "source": [
    "df = pd.read_csv('/Users/daianeklein/Documents/Data Science/Data-Viz/Plotly-Dash/Plotly-Dash/Plotly-Dashboards-with-Dash/Data/2010SantaBarbaraCA.csv')\n",
    "df.head()"
   ]
  },
  {
   "cell_type": "code",
   "execution_count": 21,
   "metadata": {},
   "outputs": [
    {
     "data": {
      "text/plain": "'file:///Users/daianeklein/Documents/Data Science/Data-Viz/Plotly-Dash/Plotly-Dash/data-viz/temp-plot.html'"
     },
     "execution_count": 21,
     "metadata": {},
     "output_type": "execute_result"
    }
   ],
   "source": [
    "data = [go.Heatmap(x = df['DAY'],\n",
    "                y = df['LST_TIME'],\n",
    "                z = df['T_HR_AVG'].values.tolist())]\n",
    "\n",
    "layout = go.Layout(title = 'SB CA Temps')\n",
    "fig = go.Figure(data = data, layout = layout)\n",
    "pyo.plot(fig)"
   ]
  },
  {
   "cell_type": "code",
   "execution_count": 22,
   "metadata": {},
   "outputs": [
    {
     "data": {
      "text/plain": "'file:///Users/daianeklein/Documents/Data Science/Data-Viz/Plotly-Dash/Plotly-Dash/data-viz/temp-plot.html'"
     },
     "execution_count": 22,
     "metadata": {},
     "output_type": "execute_result"
    }
   ],
   "source": [
    "data = [go.Heatmap(x = df['DAY'],\n",
    "                y = df['LST_TIME'],\n",
    "                z = df['T_HR_AVG'].values.tolist(),\n",
    "                colorscale = 'Jet')]\n",
    "\n",
    "layout = go.Layout(title = 'SB CA Temps')\n",
    "fig = go.Figure(data = data, layout = layout)\n",
    "pyo.plot(fig)"
   ]
  },
  {
   "cell_type": "code",
   "execution_count": 24,
   "metadata": {},
   "outputs": [
    {
     "data": {
      "text/html": "<div>\n<style scoped>\n    .dataframe tbody tr th:only-of-type {\n        vertical-align: middle;\n    }\n\n    .dataframe tbody tr th {\n        vertical-align: top;\n    }\n\n    .dataframe thead th {\n        text-align: right;\n    }\n</style>\n<table border=\"1\" class=\"dataframe\">\n  <thead>\n    <tr style=\"text-align: right;\">\n      <th></th>\n      <th>LST_DATE</th>\n      <th>DAY</th>\n      <th>LST_TIME</th>\n      <th>T_HR_AVG</th>\n    </tr>\n  </thead>\n  <tbody>\n    <tr>\n      <th>0</th>\n      <td>20100601</td>\n      <td>TUESDAY</td>\n      <td>0:00</td>\n      <td>25.2</td>\n    </tr>\n    <tr>\n      <th>1</th>\n      <td>20100601</td>\n      <td>TUESDAY</td>\n      <td>1:00</td>\n      <td>24.1</td>\n    </tr>\n    <tr>\n      <th>2</th>\n      <td>20100601</td>\n      <td>TUESDAY</td>\n      <td>2:00</td>\n      <td>24.4</td>\n    </tr>\n    <tr>\n      <th>3</th>\n      <td>20100601</td>\n      <td>TUESDAY</td>\n      <td>3:00</td>\n      <td>24.9</td>\n    </tr>\n    <tr>\n      <th>4</th>\n      <td>20100601</td>\n      <td>TUESDAY</td>\n      <td>4:00</td>\n      <td>22.8</td>\n    </tr>\n  </tbody>\n</table>\n</div>",
      "text/plain": "   LST_DATE      DAY LST_TIME  T_HR_AVG\n0  20100601  TUESDAY     0:00      25.2\n1  20100601  TUESDAY     1:00      24.1\n2  20100601  TUESDAY     2:00      24.4\n3  20100601  TUESDAY     3:00      24.9\n4  20100601  TUESDAY     4:00      22.8"
     },
     "execution_count": 24,
     "metadata": {},
     "output_type": "execute_result"
    }
   ],
   "source": [
    "df = pd.read_csv('/Users/daianeklein/Documents/Data Science/Data-Viz/Plotly-Dash/Plotly-Dash/Plotly-Dashboards-with-Dash/Data/2010YumaAZ.csv')\n",
    "df.head()"
   ]
  },
  {
   "cell_type": "code",
   "execution_count": 25,
   "metadata": {},
   "outputs": [
    {
     "data": {
      "text/plain": "'file:///Users/daianeklein/Documents/Data Science/Data-Viz/Plotly-Dash/Plotly-Dash/data-viz/temp-plot.html'"
     },
     "execution_count": 25,
     "metadata": {},
     "output_type": "execute_result"
    }
   ],
   "source": [
    "data = [go.Heatmap(x = df['DAY'],\n",
    "                y = df['LST_TIME'],\n",
    "                z = df['T_HR_AVG'].values.tolist(),\n",
    "                colorscale = 'Jet')]\n",
    "\n",
    "layout = go.Layout(title = 'SB AR Temps')\n",
    "fig = go.Figure(data = data, layout = layout)\n",
    "pyo.plot(fig)"
   ]
  },
  {
   "cell_type": "code",
   "execution_count": 29,
   "metadata": {},
   "outputs": [
    {
     "name": "stdout",
     "output_type": "stream",
     "text": [
      "This is the format of your plot grid:\n",
      "[ (1,1) x1,y1 ]  [ (1,2) x2,y1 ]  [ (1,3) x3,y1 ]\n",
      "\n"
     ]
    },
    {
     "data": {
      "text/plain": "'file:///Users/daianeklein/Documents/Data Science/Data-Viz/Plotly-Dash/Plotly-Dash/data-viz/temp-plot.html'"
     },
     "execution_count": 29,
     "metadata": {},
     "output_type": "execute_result"
    }
   ],
   "source": [
    "# multiple heatmaps with subplots\n",
    "from plotly import tools\n",
    "\n",
    "df1 = pd.read_csv('/Users/daianeklein/Documents/Data Science/Data-Viz/Plotly-Dash/Plotly-Dash/Plotly-Dashboards-with-Dash/Data/2010SitkaAK.csv')\n",
    "df2 = pd.read_csv('/Users/daianeklein/Documents/Data Science/Data-Viz/Plotly-Dash/Plotly-Dash/Plotly-Dashboards-with-Dash/Data/2010SantaBarbaraCA.csv')\n",
    "df3 = pd.read_csv('/Users/daianeklein/Documents/Data Science/Data-Viz/Plotly-Dash/Plotly-Dash/Plotly-Dashboards-with-Dash/Data/2010YumaAZ.csv')\n",
    "\n",
    "trace1 = go.Heatmap(x = df1['DAY'], y=df1['LST_TIME'], z = df1['T_HR_AVG'], colorscale = 'Jet', zmin = 5, zmax = 40)\n",
    "trace2 = go.Heatmap(x = df2['DAY'], y=df2['LST_TIME'], z = df2['T_HR_AVG'], colorscale = 'Jet', zmin = 5, zmax = 40)\n",
    "trace3 = go.Heatmap(x = df3['DAY'], y=df3['LST_TIME'], z = df3['T_HR_AVG'], colorscale = 'Jet', zmin = 5, zmax = 40)\n",
    "\n",
    "fig = tools.make_subplots(rows = 1, cols = 3, subplot_titles = ['Sitka AK', 'SB CA', 'Yuma AZ'],\n",
    "                            shared_yaxes = True)\n",
    "\n",
    "fig.append_trace(trace1, 1, 1)\n",
    "fig.append_trace(trace2, 1, 2)\n",
    "fig.append_trace(trace3, 1, 3)\n",
    "\n",
    "fig['layout'].update(title='Temps for 3 cities')\n",
    "pyo.plot(fig)"
   ]
  },
  {
   "cell_type": "markdown",
   "metadata": {},
   "source": [
    "## EXERCISE"
   ]
  },
  {
   "cell_type": "code",
   "execution_count": 30,
   "metadata": {},
   "outputs": [
    {
     "data": {
      "text/html": "<div>\n<style scoped>\n    .dataframe tbody tr th:only-of-type {\n        vertical-align: middle;\n    }\n\n    .dataframe tbody tr th {\n        vertical-align: top;\n    }\n\n    .dataframe thead th {\n        text-align: right;\n    }\n</style>\n<table border=\"1\" class=\"dataframe\">\n  <thead>\n    <tr style=\"text-align: right;\">\n      <th></th>\n      <th>year</th>\n      <th>month</th>\n      <th>passengers</th>\n    </tr>\n  </thead>\n  <tbody>\n    <tr>\n      <th>0</th>\n      <td>1949</td>\n      <td>January</td>\n      <td>112</td>\n    </tr>\n    <tr>\n      <th>1</th>\n      <td>1949</td>\n      <td>February</td>\n      <td>118</td>\n    </tr>\n    <tr>\n      <th>2</th>\n      <td>1949</td>\n      <td>March</td>\n      <td>132</td>\n    </tr>\n    <tr>\n      <th>3</th>\n      <td>1949</td>\n      <td>April</td>\n      <td>129</td>\n    </tr>\n    <tr>\n      <th>4</th>\n      <td>1949</td>\n      <td>May</td>\n      <td>121</td>\n    </tr>\n  </tbody>\n</table>\n</div>",
      "text/plain": "   year     month  passengers\n0  1949   January         112\n1  1949  February         118\n2  1949     March         132\n3  1949     April         129\n4  1949       May         121"
     },
     "execution_count": 30,
     "metadata": {},
     "output_type": "execute_result"
    }
   ],
   "source": [
    "df = pd.read_csv('/Users/daianeklein/Documents/Data Science/Data-Viz/Plotly-Dash/Plotly-Dash/Plotly-Dashboards-with-Dash/Data/flights.csv')\n",
    "df.head()"
   ]
  },
  {
   "cell_type": "code",
   "execution_count": 34,
   "metadata": {},
   "outputs": [
    {
     "data": {
      "text/plain": "'file:///Users/daianeklein/Documents/Data Science/Data-Viz/Plotly-Dash/Plotly-Dash/data-viz/temp-plot.html'"
     },
     "execution_count": 34,
     "metadata": {},
     "output_type": "execute_result"
    }
   ],
   "source": [
    "data = [go.Heatmap(x = df['year'], y = df['month'],\n",
    "z = df['passengers'])]\n",
    "layout = go.Layout(title = 'flights')\n",
    "fig = go.Figure(data = data, layout = layout)\n",
    "pyo.plot(fig)"
   ]
  },
  {
   "cell_type": "code",
   "execution_count": null,
   "metadata": {},
   "outputs": [],
   "source": []
  }
 ],
 "metadata": {
  "kernelspec": {
   "display_name": "Python 3.9.7 64-bit ('venv-dash': conda)",
   "name": "python397jvsc74a57bd055f600b57da431e6b77cdde05ccfa3e0750e17b5a20a9c304dc23f2d879f102f"
  },
  "language_info": {
   "codemirror_mode": {
    "name": "ipython",
    "version": 3
   },
   "file_extension": ".py",
   "mimetype": "text/x-python",
   "name": "python",
   "nbconvert_exporter": "python",
   "pygments_lexer": "ipython3",
   "version": "3.9.7"
  },
  "orig_nbformat": 2
 },
 "nbformat": 4,
 "nbformat_minor": 2
}