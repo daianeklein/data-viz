{
 "cells": [
  {
   "cell_type": "code",
   "execution_count": 6,
   "metadata": {},
   "outputs": [],
   "source": [
    "import pandas as pd\n",
    "import numpy as np\n",
    "import plotly.offline as pyo\n",
    "import plotly.graph_objs as go"
   ]
  },
  {
   "cell_type": "code",
   "execution_count": 15,
   "metadata": {},
   "outputs": [
    {
     "data": {
      "text/plain": "'file:///Users/daianeklein/Documents/Data Science/Data-Viz/Plotly-Dash/Plotly-Dash/data-viz/scatter.html'"
     },
     "execution_count": 15,
     "metadata": {},
     "output_type": "execute_result"
    }
   ],
   "source": [
    "np.random.seed(42)\n",
    "\n",
    "random_x = np.random.randint(1, 101, 100)\n",
    "random_y = np.random.randint(1, 101, 100)\n",
    "\n",
    "data = [go.Scatter(x = random_x,\n",
    "                   y = random_y,\n",
    "                   mode = 'markers',\n",
    "                   marker = dict(\n",
    "                                size = 12,\n",
    "                                color = 'rgb(51, 204, 153)',\n",
    "                                symbol = 'pentagon',\n",
    "                                line = {'width' : 2}))]\n",
    "                                \n",
    "layout = go.Layout(title = 'Hello First Plot', \n",
    "                        xaxis = {'title' : 'My X axis'},\n",
    "                        yaxis = dict(title = 'My Y axis'),\n",
    "                        hovermode = 'closest')\n",
    "\n",
    "fig = go.Figure(data = data, layout = layout)\n",
    "pyo.plot(fig, filename='scatter.html')"
   ]
  },
  {
   "cell_type": "code",
   "execution_count": 20,
   "metadata": {},
   "outputs": [
    {
     "data": {
      "text/plain": "'file:///Users/daianeklein/Documents/Data Science/Data-Viz/Plotly-Dash/Plotly-Dash/data-viz/temp-plot.html'"
     },
     "execution_count": 20,
     "metadata": {},
     "output_type": "execute_result"
    }
   ],
   "source": [
    "np.random.seed(56)\n",
    "\n",
    "x_values = np.linspace(0, 1, 100)\n",
    "y_values = np.random.randn(100)\n",
    "\n",
    "trace0 = go.Scatter(x = x_values, y = y_values + 5,\n",
    "                mode = 'markers',\n",
    "                name = 'markers')\n",
    "\n",
    "trace1 = go.Scatter(x = x_values,\n",
    "                y = y_values,\n",
    "                mode = 'lines',\n",
    "                name = 'mylines')\n",
    "\n",
    "trace2 = go.Scatter(x = x_values,\n",
    "                y = y_values -5,\n",
    "                mode = 'lines+markers',\n",
    "                name = 'my favorite'\n",
    "                )\n",
    "\n",
    "data = [trace0, trace1, trace2]\n",
    "layout = go.Layout(title ='Line Charts')\n",
    "fig = go.Figure(data = data, layout = layout)\n",
    "pyo.plot(fig)"
   ]
  },
  {
   "cell_type": "markdown",
   "metadata": {},
   "source": [
    "WITH PANDAS"
   ]
  },
  {
   "cell_type": "code",
   "execution_count": 21,
   "metadata": {},
   "outputs": [],
   "source": [
    "df = pd.read_csv('/Users/daianeklein/Documents/Data Science/Data-Viz/Plotly-Dash/Plotly-Dash/Plotly-Dashboards-with-Dash/SourceData/nst-est2017-alldata.csv')"
   ]
  },
  {
   "cell_type": "code",
   "execution_count": 23,
   "metadata": {},
   "outputs": [
    {
     "data": {
      "text/html": "<div>\n<style scoped>\n    .dataframe tbody tr th:only-of-type {\n        vertical-align: middle;\n    }\n\n    .dataframe tbody tr th {\n        vertical-align: top;\n    }\n\n    .dataframe thead th {\n        text-align: right;\n    }\n</style>\n<table border=\"1\" class=\"dataframe\">\n  <thead>\n    <tr style=\"text-align: right;\">\n      <th></th>\n      <th>SUMLEV</th>\n      <th>REGION</th>\n      <th>DIVISION</th>\n      <th>STATE</th>\n      <th>NAME</th>\n      <th>CENSUS2010POP</th>\n      <th>ESTIMATESBASE2010</th>\n      <th>POPESTIMATE2010</th>\n      <th>POPESTIMATE2011</th>\n      <th>POPESTIMATE2012</th>\n      <th>...</th>\n      <th>RDOMESTICMIG2015</th>\n      <th>RDOMESTICMIG2016</th>\n      <th>RDOMESTICMIG2017</th>\n      <th>RNETMIG2011</th>\n      <th>RNETMIG2012</th>\n      <th>RNETMIG2013</th>\n      <th>RNETMIG2014</th>\n      <th>RNETMIG2015</th>\n      <th>RNETMIG2016</th>\n      <th>RNETMIG2017</th>\n    </tr>\n  </thead>\n  <tbody>\n    <tr>\n      <th>0</th>\n      <td>10.0</td>\n      <td>0</td>\n      <td>0</td>\n      <td>0.0</td>\n      <td>United States</td>\n      <td>308745538.0</td>\n      <td>308758105.0</td>\n      <td>309338421.0</td>\n      <td>311644280.0</td>\n      <td>313993272.0</td>\n      <td>...</td>\n      <td>0.000000</td>\n      <td>0.000000</td>\n      <td>0.000000</td>\n      <td>2.720900</td>\n      <td>2.920371</td>\n      <td>2.883643</td>\n      <td>3.173228</td>\n      <td>3.516743</td>\n      <td>3.513394</td>\n      <td>3.423941</td>\n    </tr>\n    <tr>\n      <th>1</th>\n      <td>20.0</td>\n      <td>1</td>\n      <td>0</td>\n      <td>0.0</td>\n      <td>Northeast Region</td>\n      <td>55317240.0</td>\n      <td>55318350.0</td>\n      <td>55388349.0</td>\n      <td>55642659.0</td>\n      <td>55860261.0</td>\n      <td>...</td>\n      <td>-6.103092</td>\n      <td>-6.619089</td>\n      <td>-5.559570</td>\n      <td>1.467950</td>\n      <td>0.779137</td>\n      <td>0.605873</td>\n      <td>-0.082832</td>\n      <td>-0.903931</td>\n      <td>-1.307503</td>\n      <td>-0.288930</td>\n    </tr>\n    <tr>\n      <th>2</th>\n      <td>20.0</td>\n      <td>2</td>\n      <td>0</td>\n      <td>0.0</td>\n      <td>Midwest Region</td>\n      <td>66927001.0</td>\n      <td>66929794.0</td>\n      <td>66973360.0</td>\n      <td>67141501.0</td>\n      <td>67318295.0</td>\n      <td>...</td>\n      <td>-3.458531</td>\n      <td>-3.307295</td>\n      <td>-2.304640</td>\n      <td>-1.187519</td>\n      <td>-1.010696</td>\n      <td>-0.120354</td>\n      <td>-0.752477</td>\n      <td>-1.323952</td>\n      <td>-1.160735</td>\n      <td>-0.191323</td>\n    </tr>\n    <tr>\n      <th>3</th>\n      <td>20.0</td>\n      <td>3</td>\n      <td>0</td>\n      <td>0.0</td>\n      <td>South Region</td>\n      <td>114555744.0</td>\n      <td>114563024.0</td>\n      <td>114869241.0</td>\n      <td>116060993.0</td>\n      <td>117291728.0</td>\n      <td>...</td>\n      <td>3.788037</td>\n      <td>3.592695</td>\n      <td>2.900528</td>\n      <td>5.544289</td>\n      <td>5.831747</td>\n      <td>5.362083</td>\n      <td>6.317310</td>\n      <td>7.336162</td>\n      <td>7.113818</td>\n      <td>6.304010</td>\n    </tr>\n    <tr>\n      <th>4</th>\n      <td>20.0</td>\n      <td>4</td>\n      <td>0</td>\n      <td>0.0</td>\n      <td>West Region</td>\n      <td>71945553.0</td>\n      <td>71946937.0</td>\n      <td>72107471.0</td>\n      <td>72799127.0</td>\n      <td>73522988.0</td>\n      <td>...</td>\n      <td>1.613450</td>\n      <td>2.099001</td>\n      <td>1.475519</td>\n      <td>2.798796</td>\n      <td>3.521423</td>\n      <td>3.396627</td>\n      <td>4.163576</td>\n      <td>5.067452</td>\n      <td>5.488965</td>\n      <td>4.737979</td>\n    </tr>\n  </tbody>\n</table>\n<p>5 rows × 121 columns</p>\n</div>",
      "text/plain": "   SUMLEV REGION DIVISION  STATE              NAME  CENSUS2010POP  \\\n0    10.0      0        0    0.0     United States    308745538.0   \n1    20.0      1        0    0.0  Northeast Region     55317240.0   \n2    20.0      2        0    0.0    Midwest Region     66927001.0   \n3    20.0      3        0    0.0      South Region    114555744.0   \n4    20.0      4        0    0.0       West Region     71945553.0   \n\n   ESTIMATESBASE2010  POPESTIMATE2010  POPESTIMATE2011  POPESTIMATE2012  ...  \\\n0        308758105.0      309338421.0      311644280.0      313993272.0  ...   \n1         55318350.0       55388349.0       55642659.0       55860261.0  ...   \n2         66929794.0       66973360.0       67141501.0       67318295.0  ...   \n3        114563024.0      114869241.0      116060993.0      117291728.0  ...   \n4         71946937.0       72107471.0       72799127.0       73522988.0  ...   \n\n   RDOMESTICMIG2015  RDOMESTICMIG2016  RDOMESTICMIG2017  RNETMIG2011  \\\n0          0.000000          0.000000          0.000000     2.720900   \n1         -6.103092         -6.619089         -5.559570     1.467950   \n2         -3.458531         -3.307295         -2.304640    -1.187519   \n3          3.788037          3.592695          2.900528     5.544289   \n4          1.613450          2.099001          1.475519     2.798796   \n\n   RNETMIG2012  RNETMIG2013  RNETMIG2014  RNETMIG2015  RNETMIG2016  \\\n0     2.920371     2.883643     3.173228     3.516743     3.513394   \n1     0.779137     0.605873    -0.082832    -0.903931    -1.307503   \n2    -1.010696    -0.120354    -0.752477    -1.323952    -1.160735   \n3     5.831747     5.362083     6.317310     7.336162     7.113818   \n4     3.521423     3.396627     4.163576     5.067452     5.488965   \n\n   RNETMIG2017  \n0     3.423941  \n1    -0.288930  \n2    -0.191323  \n3     6.304010  \n4     4.737979  \n\n[5 rows x 121 columns]"
     },
     "execution_count": 23,
     "metadata": {},
     "output_type": "execute_result"
    }
   ],
   "source": [
    "df.head()"
   ]
  },
  {
   "cell_type": "code",
   "execution_count": 24,
   "metadata": {},
   "outputs": [
    {
     "data": {
      "text/plain": "(59, 121)"
     },
     "execution_count": 24,
     "metadata": {},
     "output_type": "execute_result"
    }
   ],
   "source": [
    "df.shape"
   ]
  },
  {
   "cell_type": "code",
   "execution_count": 31,
   "metadata": {},
   "outputs": [
    {
     "data": {
      "text/html": "<div>\n<style scoped>\n    .dataframe tbody tr th:only-of-type {\n        vertical-align: middle;\n    }\n\n    .dataframe tbody tr th {\n        vertical-align: top;\n    }\n\n    .dataframe thead th {\n        text-align: right;\n    }\n</style>\n<table border=\"1\" class=\"dataframe\">\n  <thead>\n    <tr style=\"text-align: right;\">\n      <th></th>\n      <th>POPESTIMATE2010</th>\n      <th>POPESTIMATE2011</th>\n      <th>POPESTIMATE2012</th>\n      <th>POPESTIMATE2013</th>\n      <th>POPESTIMATE2014</th>\n      <th>POPESTIMATE2015</th>\n      <th>POPESTIMATE2016</th>\n      <th>POPESTIMATE2017</th>\n    </tr>\n    <tr>\n      <th>NAME</th>\n      <th></th>\n      <th></th>\n      <th></th>\n      <th></th>\n      <th></th>\n      <th></th>\n      <th></th>\n      <th></th>\n    </tr>\n  </thead>\n  <tbody>\n    <tr>\n      <th>Connecticut</th>\n      <td>3580171.0</td>\n      <td>3591927.0</td>\n      <td>3597705.0</td>\n      <td>3602470.0</td>\n      <td>3600188.0</td>\n      <td>3593862.0</td>\n      <td>3587685.0</td>\n      <td>3588184.0</td>\n    </tr>\n    <tr>\n      <th>Maine</th>\n      <td>1327568.0</td>\n      <td>1327968.0</td>\n      <td>1328101.0</td>\n      <td>1327975.0</td>\n      <td>1328903.0</td>\n      <td>1327787.0</td>\n      <td>1330232.0</td>\n      <td>1335907.0</td>\n    </tr>\n    <tr>\n      <th>Massachusetts</th>\n      <td>6564943.0</td>\n      <td>6612178.0</td>\n      <td>6659627.0</td>\n      <td>6711138.0</td>\n      <td>6757925.0</td>\n      <td>6794002.0</td>\n      <td>6823721.0</td>\n      <td>6859819.0</td>\n    </tr>\n    <tr>\n      <th>New Hampshire</th>\n      <td>1316700.0</td>\n      <td>1318345.0</td>\n      <td>1320923.0</td>\n      <td>1322622.0</td>\n      <td>1328684.0</td>\n      <td>1330134.0</td>\n      <td>1335015.0</td>\n      <td>1342795.0</td>\n    </tr>\n    <tr>\n      <th>Rhode Island</th>\n      <td>1053169.0</td>\n      <td>1052154.0</td>\n      <td>1052761.0</td>\n      <td>1052784.0</td>\n      <td>1054782.0</td>\n      <td>1055916.0</td>\n      <td>1057566.0</td>\n      <td>1059639.0</td>\n    </tr>\n  </tbody>\n</table>\n</div>",
      "text/plain": "               POPESTIMATE2010  POPESTIMATE2011  POPESTIMATE2012  \\\nNAME                                                               \nConnecticut          3580171.0        3591927.0        3597705.0   \nMaine                1327568.0        1327968.0        1328101.0   \nMassachusetts        6564943.0        6612178.0        6659627.0   \nNew Hampshire        1316700.0        1318345.0        1320923.0   \nRhode Island         1053169.0        1052154.0        1052761.0   \n\n               POPESTIMATE2013  POPESTIMATE2014  POPESTIMATE2015  \\\nNAME                                                               \nConnecticut          3602470.0        3600188.0        3593862.0   \nMaine                1327975.0        1328903.0        1327787.0   \nMassachusetts        6711138.0        6757925.0        6794002.0   \nNew Hampshire        1322622.0        1328684.0        1330134.0   \nRhode Island         1052784.0        1054782.0        1055916.0   \n\n               POPESTIMATE2016  POPESTIMATE2017  \nNAME                                             \nConnecticut          3587685.0        3588184.0  \nMaine                1330232.0        1335907.0  \nMassachusetts        6823721.0        6859819.0  \nNew Hampshire        1335015.0        1342795.0  \nRhode Island         1057566.0        1059639.0  "
     },
     "execution_count": 31,
     "metadata": {},
     "output_type": "execute_result"
    }
   ],
   "source": [
    "df2 = df[df['DIVISION'] == '1']\n",
    "df2.set_index('NAME', inplace = True)\n",
    "\n",
    "list_of_pop_col = [col for col in df2.columns if col.startswith('POP')]\n",
    "df2 = df2[list_of_pop_col]\n",
    "\n",
    "df2.head()"
   ]
  },
  {
   "cell_type": "code",
   "execution_count": null,
   "metadata": {},
   "outputs": [],
   "source": [
    "data = [go.Scatter(x = df2.columns,\n",
    "                y= df2.loc[name],\n",
    "                mode = 'lines',\n",
    "                name = name) for name in df2.index]\n",
    "\n",
    "pyo.plot(data)"
   ]
  },
  {
   "cell_type": "code",
   "execution_count": null,
   "metadata": {},
   "outputs": [],
   "source": []
  }
 ],
 "metadata": {
  "kernelspec": {
   "display_name": "Python 3.9.7 64-bit ('venv-dash': conda)",
   "name": "python397jvsc74a57bd055f600b57da431e6b77cdde05ccfa3e0750e17b5a20a9c304dc23f2d879f102f"
  },
  "language_info": {
   "codemirror_mode": {
    "name": "ipython",
    "version": 3
   },
   "file_extension": ".py",
   "mimetype": "text/x-python",
   "name": "python",
   "nbconvert_exporter": "python",
   "pygments_lexer": "ipython3",
   "version": "3.9.7"
  },
  "orig_nbformat": 2
 },
 "nbformat": 4,
 "nbformat_minor": 2
}