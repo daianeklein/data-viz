{
 "cells": [
  {
   "cell_type": "markdown",
   "metadata": {},
   "source": [
    "# TITLE I"
   ]
  },
  {
   "cell_type": "code",
   "execution_count": null,
   "metadata": {},
   "outputs": [],
   "source": []
  },
  {
   "cell_type": "code",
   "execution_count": null,
   "metadata": {},
   "outputs": [],
   "source": []
  },
  {
   "cell_type": "code",
   "execution_count": null,
   "metadata": {},
   "outputs": [],
   "source": []
  },
  {
   "cell_type": "markdown",
   "metadata": {},
   "source": [
    "## Lib's"
   ]
  },
  {
   "cell_type": "code",
   "execution_count": 19,
   "metadata": {
    "ExecuteTime": {
     "end_time": "2021-12-20T22:41:41.272386Z",
     "start_time": "2021-12-20T22:41:41.268344Z"
    }
   },
   "outputs": [],
   "source": [
    "import pandas as pd\n",
    "import re\n",
    "import os\n",
    "\n",
    "import dash\n",
    "import dash_bootstrap_components as dbc\n",
    "from dash import dcc\n",
    "from dash import html\n"
   ]
  },
  {
   "cell_type": "markdown",
   "metadata": {},
   "source": [
    "## Dataset"
   ]
  },
  {
   "cell_type": "code",
   "execution_count": 50,
   "metadata": {
    "ExecuteTime": {
     "end_time": "2021-12-21T00:59:03.247051Z",
     "start_time": "2021-12-21T00:58:50.706573Z"
    }
   },
   "outputs": [
    {
     "data": {
      "text/html": [
       "<div>\n",
       "<style scoped>\n",
       "    .dataframe tbody tr th:only-of-type {\n",
       "        vertical-align: middle;\n",
       "    }\n",
       "\n",
       "    .dataframe tbody tr th {\n",
       "        vertical-align: top;\n",
       "    }\n",
       "\n",
       "    .dataframe thead th {\n",
       "        text-align: right;\n",
       "    }\n",
       "</style>\n",
       "<table border=\"1\" class=\"dataframe\">\n",
       "  <thead>\n",
       "    <tr style=\"text-align: right;\">\n",
       "      <th></th>\n",
       "      <th>id</th>\n",
       "      <th>data_inversa</th>\n",
       "      <th>dia_semana</th>\n",
       "      <th>horario</th>\n",
       "      <th>uf</th>\n",
       "      <th>br</th>\n",
       "      <th>km</th>\n",
       "      <th>municipio</th>\n",
       "      <th>causa_acidente</th>\n",
       "      <th>tipo_acidente</th>\n",
       "      <th>...</th>\n",
       "      <th>ilesos</th>\n",
       "      <th>ignorados</th>\n",
       "      <th>feridos</th>\n",
       "      <th>veiculos</th>\n",
       "      <th>year</th>\n",
       "      <th>latitude</th>\n",
       "      <th>longitude</th>\n",
       "      <th>regional</th>\n",
       "      <th>delegacia</th>\n",
       "      <th>uop</th>\n",
       "    </tr>\n",
       "  </thead>\n",
       "  <tbody>\n",
       "    <tr>\n",
       "      <th>0</th>\n",
       "      <td>1012870.0</td>\n",
       "      <td>25/11/2008</td>\n",
       "      <td>Terça</td>\n",
       "      <td>16:00:00</td>\n",
       "      <td>DF</td>\n",
       "      <td>70</td>\n",
       "      <td>5</td>\n",
       "      <td>BRASILIA</td>\n",
       "      <td>Outras</td>\n",
       "      <td>Colisão traseira</td>\n",
       "      <td>...</td>\n",
       "      <td>2</td>\n",
       "      <td>0</td>\n",
       "      <td>1</td>\n",
       "      <td>2</td>\n",
       "      <td>2008</td>\n",
       "      <td>NaN</td>\n",
       "      <td>NaN</td>\n",
       "      <td>NaN</td>\n",
       "      <td>NaN</td>\n",
       "      <td>NaN</td>\n",
       "    </tr>\n",
       "    <tr>\n",
       "      <th>1</th>\n",
       "      <td>1023692.0</td>\n",
       "      <td>09/11/2008</td>\n",
       "      <td>Domingo</td>\n",
       "      <td>10:10:00</td>\n",
       "      <td>MA</td>\n",
       "      <td>316</td>\n",
       "      <td>284</td>\n",
       "      <td>BELA VISTA DO MARANHAO</td>\n",
       "      <td>Outras</td>\n",
       "      <td>Tombamento</td>\n",
       "      <td>...</td>\n",
       "      <td>1</td>\n",
       "      <td>0</td>\n",
       "      <td>9</td>\n",
       "      <td>1</td>\n",
       "      <td>2008</td>\n",
       "      <td>NaN</td>\n",
       "      <td>NaN</td>\n",
       "      <td>NaN</td>\n",
       "      <td>NaN</td>\n",
       "      <td>NaN</td>\n",
       "    </tr>\n",
       "    <tr>\n",
       "      <th>2</th>\n",
       "      <td>1027252.0</td>\n",
       "      <td>27/11/2008</td>\n",
       "      <td>Quinta</td>\n",
       "      <td>09:20:00</td>\n",
       "      <td>PE</td>\n",
       "      <td>101</td>\n",
       "      <td>47.6</td>\n",
       "      <td>IGARASSU</td>\n",
       "      <td>Falta de atenção</td>\n",
       "      <td>Colisão traseira</td>\n",
       "      <td>...</td>\n",
       "      <td>2</td>\n",
       "      <td>0</td>\n",
       "      <td>2</td>\n",
       "      <td>3</td>\n",
       "      <td>2008</td>\n",
       "      <td>NaN</td>\n",
       "      <td>NaN</td>\n",
       "      <td>NaN</td>\n",
       "      <td>NaN</td>\n",
       "      <td>NaN</td>\n",
       "    </tr>\n",
       "    <tr>\n",
       "      <th>3</th>\n",
       "      <td>1029670.0</td>\n",
       "      <td>11/01/2008</td>\n",
       "      <td>Sexta</td>\n",
       "      <td>22:00:00</td>\n",
       "      <td>MA</td>\n",
       "      <td>316</td>\n",
       "      <td>432.1</td>\n",
       "      <td>PERITORO</td>\n",
       "      <td>Ultrapassagem indevida</td>\n",
       "      <td>Colisão frontal</td>\n",
       "      <td>...</td>\n",
       "      <td>0</td>\n",
       "      <td>0</td>\n",
       "      <td>2</td>\n",
       "      <td>2</td>\n",
       "      <td>2008</td>\n",
       "      <td>NaN</td>\n",
       "      <td>NaN</td>\n",
       "      <td>NaN</td>\n",
       "      <td>NaN</td>\n",
       "      <td>NaN</td>\n",
       "    </tr>\n",
       "    <tr>\n",
       "      <th>4</th>\n",
       "      <td>1038085.0</td>\n",
       "      <td>07/05/2008</td>\n",
       "      <td>Quarta</td>\n",
       "      <td>07:05:00</td>\n",
       "      <td>RO</td>\n",
       "      <td>364</td>\n",
       "      <td>719.6</td>\n",
       "      <td>PORTO VELHO</td>\n",
       "      <td>Falta de atenção</td>\n",
       "      <td>Colisão Transversal</td>\n",
       "      <td>...</td>\n",
       "      <td>1</td>\n",
       "      <td>0</td>\n",
       "      <td>2</td>\n",
       "      <td>2</td>\n",
       "      <td>2008</td>\n",
       "      <td>NaN</td>\n",
       "      <td>NaN</td>\n",
       "      <td>NaN</td>\n",
       "      <td>NaN</td>\n",
       "      <td>NaN</td>\n",
       "    </tr>\n",
       "  </tbody>\n",
       "</table>\n",
       "<p>5 rows × 32 columns</p>\n",
       "</div>"
      ],
      "text/plain": [
       "          id data_inversa dia_semana   horario  uf   br     km  \\\n",
       "0  1012870.0   25/11/2008      Terça  16:00:00  DF   70      5   \n",
       "1  1023692.0   09/11/2008    Domingo  10:10:00  MA  316    284   \n",
       "2  1027252.0   27/11/2008     Quinta  09:20:00  PE  101   47.6   \n",
       "3  1029670.0   11/01/2008      Sexta  22:00:00  MA  316  432.1   \n",
       "4  1038085.0   07/05/2008     Quarta  07:05:00  RO  364  719.6   \n",
       "\n",
       "                municipio          causa_acidente        tipo_acidente  ...  \\\n",
       "0                BRASILIA                  Outras     Colisão traseira  ...   \n",
       "1  BELA VISTA DO MARANHAO                  Outras           Tombamento  ...   \n",
       "2                IGARASSU        Falta de atenção     Colisão traseira  ...   \n",
       "3                PERITORO  Ultrapassagem indevida      Colisão frontal  ...   \n",
       "4             PORTO VELHO        Falta de atenção  Colisão Transversal  ...   \n",
       "\n",
       "  ilesos ignorados feridos veiculos  year latitude longitude  regional  \\\n",
       "0      2         0       1        2  2008      NaN       NaN       NaN   \n",
       "1      1         0       9        1  2008      NaN       NaN       NaN   \n",
       "2      2         0       2        3  2008      NaN       NaN       NaN   \n",
       "3      0         0       2        2  2008      NaN       NaN       NaN   \n",
       "4      1         0       2        2  2008      NaN       NaN       NaN   \n",
       "\n",
       "   delegacia  uop  \n",
       "0        NaN  NaN  \n",
       "1        NaN  NaN  \n",
       "2        NaN  NaN  \n",
       "3        NaN  NaN  \n",
       "4        NaN  NaN  \n",
       "\n",
       "[5 rows x 32 columns]"
      ]
     },
     "execution_count": 50,
     "metadata": {},
     "output_type": "execute_result"
    }
   ],
   "source": [
    "path = 'data'\n",
    "lista = []\n",
    "df = pd.DataFrame()\n",
    "\n",
    "for f in os.listdir(path + \"/\"):\n",
    "    frames = pd.read_csv(path + \"/\" + f, encoding = 'latin-1', sep = ';', low_memory = False)\n",
    "    file = re.search(r'\\d+', f).group(0)\n",
    "    \n",
    "    frames['file'] = file\n",
    "    df = df.append(frames, ignore_index=True)\n",
    "    \n",
    "\n",
    "    \n",
    "df.head()"
   ]
  },
  {
   "cell_type": "code",
   "execution_count": 53,
   "metadata": {
    "ExecuteTime": {
     "end_time": "2021-12-21T01:00:19.155808Z",
     "start_time": "2021-12-21T01:00:18.782209Z"
    }
   },
   "outputs": [],
   "source": [
    "# data type\n",
    "df['data_inversa'] = df['data_inversa'].astype('datetime64')\n",
    "\n",
    "print(df['data_inversa'].min())\n",
    "print(df['data_inversa'].max())"
   ]
  },
  {
   "cell_type": "code",
   "execution_count": 61,
   "metadata": {
    "ExecuteTime": {
     "end_time": "2021-12-21T01:04:26.122193Z",
     "start_time": "2021-12-21T01:04:25.542042Z"
    }
   },
   "outputs": [],
   "source": [
    "df['month'] = df['data_inversa'].dt.month\n",
    "df['year'] = df['data_inversa'].dt.year"
   ]
  },
  {
   "cell_type": "code",
   "execution_count": 66,
   "metadata": {
    "ExecuteTime": {
     "end_time": "2021-12-21T01:06:35.880417Z",
     "start_time": "2021-12-21T01:06:35.579513Z"
    }
   },
   "outputs": [
    {
     "name": "stdout",
     "output_type": "stream",
     "text": [
      "00:00:00 23:59:00\n"
     ]
    }
   ],
   "source": [
    "print(df['horario'].min(), df['horario'].max())"
   ]
  },
  {
   "cell_type": "code",
   "execution_count": null,
   "metadata": {},
   "outputs": [],
   "source": []
  },
  {
   "cell_type": "code",
   "execution_count": null,
   "metadata": {},
   "outputs": [],
   "source": []
  },
  {
   "cell_type": "code",
   "execution_count": null,
   "metadata": {},
   "outputs": [],
   "source": []
  }
 ],
 "metadata": {
  "kernelspec": {
   "display_name": "venv-dash",
   "language": "python",
   "name": "venv-dash"
  },
  "language_info": {
   "codemirror_mode": {
    "name": "ipython",
    "version": 3
   },
   "file_extension": ".py",
   "mimetype": "text/x-python",
   "name": "python",
   "nbconvert_exporter": "python",
   "pygments_lexer": "ipython3",
   "version": "3.9.7"
  },
  "toc": {
   "base_numbering": 1,
   "nav_menu": {},
   "number_sections": true,
   "sideBar": true,
   "skip_h1_title": false,
   "title_cell": "Table of Contents",
   "title_sidebar": "Contents",
   "toc_cell": false,
   "toc_position": {},
   "toc_section_display": true,
   "toc_window_display": false
  }
 },
 "nbformat": 4,
 "nbformat_minor": 4
}
