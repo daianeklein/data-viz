{
 "cells": [
  {
   "cell_type": "markdown",
   "metadata": {},
   "source": [
    "# TITLE I"
   ]
  },
  {
   "cell_type": "code",
   "execution_count": null,
   "metadata": {},
   "outputs": [],
   "source": []
  },
  {
   "cell_type": "code",
   "execution_count": null,
   "metadata": {},
   "outputs": [],
   "source": []
  },
  {
   "cell_type": "code",
   "execution_count": null,
   "metadata": {},
   "outputs": [],
   "source": []
  },
  {
   "cell_type": "markdown",
   "metadata": {},
   "source": [
    "## Lib's"
   ]
  },
  {
   "cell_type": "code",
   "execution_count": 1,
   "metadata": {
    "ExecuteTime": {
     "end_time": "2022-05-11T14:17:44.894653Z",
     "start_time": "2022-05-11T14:17:41.908335Z"
    }
   },
   "outputs": [],
   "source": [
    "import pandas as pd\n",
    "import re\n",
    "import os\n",
    "\n",
    "from dash import Dash\n",
    "import dash_bootstrap_components as dbc\n",
    "from dash.dependencies import Input, Output\n",
    "from dash import dcc\n",
    "from dash import html\n",
    "\n",
    "import plotly.express as px\n",
    "import base64\n",
    "\n",
    "import matplotlib.pyplot as plt\n",
    "import seaborn as sns\n"
   ]
  },
  {
   "cell_type": "markdown",
   "metadata": {},
   "source": [
    "## Dataset"
   ]
  },
  {
   "cell_type": "code",
   "execution_count": null,
   "metadata": {
    "ExecuteTime": {
     "end_time": "2022-05-05T11:43:05.744186Z",
     "start_time": "2022-05-05T11:42:50.079643Z"
    }
   },
   "outputs": [],
   "source": [
    "#reading data\n",
    "path = 'data'\n",
    "lista = []\n",
    "df = pd.DataFrame()\n",
    "\n",
    "for f in os.listdir(path + \"/\"):\n",
    "    frames = pd.read_csv(path + \"/\" + f, encoding = 'latin-1', sep = ';', low_memory = False)\n",
    "    file = re.search(r'\\d+', f).group(0)\n",
    "    \n",
    "    frames['file'] = file\n",
    "    df = df.append(frames, ignore_index=True)"
   ]
  },
  {
   "cell_type": "code",
   "execution_count": null,
   "metadata": {
    "ExecuteTime": {
     "end_time": "2022-05-05T11:43:05.797878Z",
     "start_time": "2022-05-05T11:43:05.746686Z"
    }
   },
   "outputs": [],
   "source": [
    "df.head()"
   ]
  },
  {
   "cell_type": "code",
   "execution_count": null,
   "metadata": {
    "ExecuteTime": {
     "end_time": "2022-05-05T11:43:06.231385Z",
     "start_time": "2022-05-05T11:43:05.804419Z"
    }
   },
   "outputs": [],
   "source": [
    "# data type\n",
    "df['data_inversa'] = df['data_inversa'].astype('datetime64')\n",
    "\n",
    "print(df['data_inversa'].min())\n",
    "print(df['data_inversa'].max())"
   ]
  },
  {
   "cell_type": "code",
   "execution_count": null,
   "metadata": {
    "ExecuteTime": {
     "end_time": "2022-05-05T11:43:07.683344Z",
     "start_time": "2022-05-05T11:43:06.233907Z"
    }
   },
   "outputs": [],
   "source": [
    "# add new columns\n",
    "df['month'] = df['data_inversa'].dt.month\n",
    "df['year'] = df['data_inversa'].dt.year\n",
    "\n",
    "df['time'] = df['horario'].str.slice(0, 2)\n",
    "\n",
    "print(df['horario'].min(), df['horario'].max())"
   ]
  },
  {
   "cell_type": "code",
   "execution_count": null,
   "metadata": {
    "ExecuteTime": {
     "end_time": "2022-05-05T11:43:07.717428Z",
     "start_time": "2022-05-05T11:43:07.686847Z"
    }
   },
   "outputs": [],
   "source": [
    "df.head(3).T"
   ]
  },
  {
   "cell_type": "code",
   "execution_count": null,
   "metadata": {
    "ExecuteTime": {
     "end_time": "2022-05-05T11:43:09.064784Z",
     "start_time": "2022-05-05T11:43:07.721181Z"
    }
   },
   "outputs": [],
   "source": [
    "# getting only the target columns\n",
    "df1 = df[['dia_semana', 'uf', 'br', 'km',\n",
    "       'municipio', 'causa_acidente', 'tipo_acidente',\n",
    "        'fase_dia', \n",
    "       'condicao_metereologica', 'tipo_pista', \n",
    "       'pessoas', 'mortos', 'feridos_leves', 'feridos_graves', 'ilesos',\n",
    "       'ignorados', 'feridos', 'file', 'month', 'year', 'time']]"
   ]
  },
  {
   "cell_type": "code",
   "execution_count": null,
   "metadata": {
    "ExecuteTime": {
     "end_time": "2022-05-05T11:43:13.566711Z",
     "start_time": "2022-05-05T11:43:09.068503Z"
    }
   },
   "outputs": [],
   "source": [
    "#replacing some values\n",
    "df1 = df1.copy(deep = True)\n",
    "\n",
    "df1['dia_semana'] = [x.lower() for x in df1['dia_semana']]\n",
    "df1['dia_semana'] = [x.replace('-feira', '') for x in df1['dia_semana']]\n",
    "\n",
    "df1['causa_acidente'] = df1['causa_acidente'].str.lower()\n",
    "\n",
    "dict_replace = {'ingestão de álcool e/ou substâncias psicoativas pelo pedestre' : 'ingestão de álcool',\n",
    "               'ingestão de álcool ou de substâncias psicoativas pelo pedestre' : 'ingestão de álcool',\n",
    "               'ingestão de álcool pelo condutor' : 'ingestão de álcool',\n",
    "               'redutor de velocidade em desacordo' : 'velocidade incompatível',\n",
    "               'dormindo' : 'condutor dormindo',\n",
    "               'falta de atenção à condução' : 'falta de atenção',\n",
    "               'defeito mecânico em veículo' : 'defeito mecânico no veículo',\n",
    "               'mal súbito do condutor' : 'mal súbito'}\n",
    "\n",
    "df1 = df1.replace({'causa_acidente' : dict_replace})\n"
   ]
  },
  {
   "cell_type": "code",
   "execution_count": null,
   "metadata": {
    "ExecuteTime": {
     "end_time": "2022-05-05T11:43:13.777763Z",
     "start_time": "2022-05-05T11:43:13.569979Z"
    }
   },
   "outputs": [],
   "source": [
    "df1['dia_semana'].unique()"
   ]
  },
  {
   "cell_type": "markdown",
   "metadata": {},
   "source": [
    "# PLOTLY DASHBOARD"
   ]
  },
  {
   "cell_type": "code",
   "execution_count": null,
   "metadata": {
    "ExecuteTime": {
     "end_time": "2022-05-05T11:43:13.791625Z",
     "start_time": "2022-05-05T11:43:13.785396Z"
    }
   },
   "outputs": [],
   "source": [
    "df1.columns"
   ]
  },
  {
   "cell_type": "code",
   "execution_count": null,
   "metadata": {
    "ExecuteTime": {
     "end_time": "2022-05-05T11:43:14.034896Z",
     "start_time": "2022-05-05T11:43:13.795254Z"
    }
   },
   "outputs": [],
   "source": [
    "df1['tipo_acidente'].unique()"
   ]
  },
  {
   "cell_type": "code",
   "execution_count": null,
   "metadata": {
    "ExecuteTime": {
     "end_time": "2022-05-05T11:43:14.060492Z",
     "start_time": "2022-05-05T11:43:14.043555Z"
    }
   },
   "outputs": [],
   "source": [
    "# app = dash.Dash(__name__, external_stylesheets=[dbc.themes.DARKLY],\n",
    "#                 meta_tags = [{'name' : 'viewport',\n",
    "#                               'content' : 'width=dice_width, initial-scale=1.0'}])\n",
    "\n",
    "# app.layout = dbc.Container([\n",
    "#     html.P(' '),\n",
    "#     html.Div(id = '1st-line-separator', style = {'border' : '4px LightCoral solid'}),   \n",
    "#         dbc.Card([\n",
    "#             dbc.CardBody([\n",
    "#                 html.H1('ACIDENTES RODOVIÁRIOS', style = {'color' : '#F8F9F9'},\n",
    "#                    className = 'text-center'),\n",
    "#                 html.H5('2008 à 2021', style = {'color' : '#F8F9F9'},\n",
    "#                    className = 'text-center')\n",
    "#                     ],  style={'border' : 'none'})\n",
    "#                 ]),\n",
    "        \n",
    "#     html.P(' '),\n",
    "#     html.Div([\n",
    "#         html.Span('Dashboard referente a acidentes rodoviários registrados no períiodo de 2008 à 2021\\ne disponibilizados pela Polícia Federal do Brasil'),\n",
    "#         ], style = {'color' : '#A6ACAF', 'fontSize': 14, 'font-weight': 'light'},\n",
    "#     className = 'text-center'),\n",
    "#     html.P(' '),    \n",
    "#     html.Div(id = '2st-line-separator', style = {'border' : '1px Lightpink solid'}),\n",
    "#     html.P(' '),\n",
    "#     dbc.Card([\n",
    "#     html.P(' '),  \n",
    "#     dbc.Row([\n",
    "#         dbc.Col([\n",
    "#             html.H5(\"Anos\", style = {'color' : 'DimGrey', 'font-size' : 15, 'font-weight':'normal' })\n",
    "#         ], width = {'size' : 1,'offset' : 0.5}),\n",
    "#         dbc.Col([\n",
    "#             dcc.RangeSlider(id='year-slider',\n",
    "#                             marks = {str(i) : i for i in df['year'].unique()},\n",
    "#                             count = 1,\n",
    "#                             min = df1['year'].min(),\n",
    "#                             max = df1['year'].max(),\n",
    "#                             step = 1,\n",
    "#                             value = [2015, 2021],\n",
    "#                             className=\"margin9\")\n",
    "#         ],  width = {'size' : 10,'offset' : 0}),\n",
    "#         ]),\n",
    "#     html.P(' '),\n",
    "#     dbc.Row([\n",
    "#         dbc.Col([     \n",
    "#             html.H5('Meses: ', style = {'color' : 'DimGrey', 'font-size' : 15, 'font-weight':'normal' })\n",
    "#         ], width = {'size' : 1,'offset' : 0.5}),\n",
    "        \n",
    "#     dbc.Col([\n",
    "#         dcc.Dropdown(id='month-picker',\n",
    "#                             multi = True, value = [1, 2],\n",
    "#                             options = [{'label' : x, 'value' : x} for x in sorted(df1['month'].unique()) if x != '(null)'])\n",
    "#     ], width = {'size' : 4,'offset' : 0}),\n",
    "#     dbc.Col([\n",
    "#             html.H5('Dia da semana: ', style = {'color' : 'DimGrey', 'font-size' : 15, 'font-weight':'normal' })\n",
    "#     ], width = {'size' : 1, 'offset' : 0}),\n",
    "#     dbc.Col([dcc.Dropdown(id = 'week-day-picker',\n",
    "#                             multi = True, value = 'domingo',\n",
    "#                             options = [{'label' : x, 'value' : x} for x in sorted(df1['dia_semana'].unique()) if x != '(null)'])\n",
    "#     ], width = {'size' : 4, 'offset' : 0})\n",
    "#         ]),\n",
    "#     html.Div(id = '20st-line-separator', style = {'border' : '0px Gainsboro solid'}),\n",
    "#     ]),\n",
    "#     dbc.Card([\n",
    "#     html.P(' '),\n",
    "#     dbc.Row([\n",
    "#         dbc.Col([\n",
    "#         html.H5('Estados: ', style = {'color' : 'DimGrey', 'font-size' : 15, 'font-weight':'normal' })\n",
    "#     ], width = {'size' : 1, 'offset' : 0}),    \n",
    "#     dbc.Col([\n",
    "#         dcc.Dropdown(id='state-picker',\n",
    "#                             multi = True, value = [1, 2],\n",
    "#                             options = [{'label' : x, 'value' : x} for x in sorted(df1['uf'].unique()) if x != '(null)'])\n",
    "#     ], width = {'size' : 9,'offset' : 0}),\n",
    "#         html.P(' ')\n",
    "#     ])\n",
    "#         ]),\n",
    "#     dbc.Col([\n",
    "#             dcc.Graph(id='line-plot', figure = {},\n",
    "#             style = {'border' : '1px Azure Solid'})\n",
    "#         ], xs = 12, sm = 12, md = 12, lg = 9, xl = 9)\n",
    "\n",
    "#     ])\n",
    "\n",
    "\n",
    "# @app.callback(\n",
    "#     Output('line-plot', 'figure'),\n",
    "#     Input('year-slider', 'value')\n",
    "# )\n",
    "# def update_first_plot(year_selected):\n",
    "#     df01 = df1[['year', 'mortos']].groupby(['year'], as_index = False).sum()\n",
    "#     df01 = df1[df['year'].isin(year_selected)]\n",
    "#     fig1 = px.line(df01, x ='Date', y = 'mortos', color = 'Symbols')\n",
    "             \n",
    "    \n",
    "\n",
    "# if __name__ == '__main__':\n",
    "#     app.run_server()"
   ]
  },
  {
   "cell_type": "code",
   "execution_count": null,
   "metadata": {
    "ExecuteTime": {
     "end_time": "2022-05-05T11:43:19.068410Z",
     "start_time": "2022-05-05T11:43:14.066844Z"
    },
    "scrolled": true
   },
   "outputs": [],
   "source": [
    "# app = Dash(__name__, external_stylesheets=[dbc.themes.DARKLY],\n",
    "#                 meta_tags = [{'name' : 'viewport',\n",
    "#                               'content' : 'width=dice_width, initial-scale=1.0'}])\n",
    "\n",
    "# app.layout = dbc.Container([\n",
    "#     html.P(' '),\n",
    "#     html.Div(id = '1st-line-separator', style = {'border' : '4px LightCoral solid'}),   \n",
    "#         dbc.Card([\n",
    "#             dbc.CardBody([\n",
    "#                 html.H1('ACIDENTES RODOVIÁRIOS', style = {'color' : '#F8F9F9'},\n",
    "#                    className = 'text-center'),\n",
    "#                 html.H5('2008 à 2021', style = {'color' : '#F8F9F9'},\n",
    "#                    className = 'text-center')\n",
    "#                     ],  style={'border' : 'none'})\n",
    "#                 ]),     \n",
    "#     html.P(' '),\n",
    "#     html.Div([\n",
    "#         html.Span('Dashboard referente a acidentes rodoviários registrados no períiodo de 2008 à 2021\\ne disponibilizados pela Polícia Federal do Brasil'),\n",
    "#         ], style = {'color' : '#A6ACAF', 'fontSize': 14, 'font-weight': 'light'},\n",
    "#     className = 'text-center'),\n",
    "#     html.P(' '),    \n",
    "#     html.Div(id = '2st-line-separator', style = {'border' : '1px Lightpink solid'}),\n",
    "#     html.P(' '),\n",
    "    \n",
    "#     dbc.Row([\n",
    "#         dbc.Col([\n",
    "#             html.H1('Ano da ocorrência', style = {'color' : '#A6ACAF', 'fontSize' : 10,\n",
    "#                                                     'font-weight' : 'light',\n",
    "#                                                     'backgroundColor' : 'orange'})\n",
    "#         ], width = {'size' : 2, 'offset' : 0}),\n",
    "#         dbc.Col([\n",
    "            \n",
    "#             html.H1('Ano da ocorrência', style = {'color' : '#A6ACAF', 'fontSize' : 10, 'font-weight' : 'light',\n",
    "#                                              'backgroundColor' : 'red'})\n",
    "#             ], width = {'size' : 2,'offset' : 3}),\n",
    "#     ]),\n",
    "#     dbc.Row([\n",
    "#         dbc.Col([\n",
    "#             dcc.Slider(id = 'year-slider', min = 2007, max = 2021, value = 2007, step = 1,\n",
    "#                       marks = {i: i for i in range(2007, 2021)})\n",
    "#         ])\n",
    "#     ])\n",
    "# ])\n",
    "\n",
    "# if __name__ == '__main__':\n",
    "#     app.run_server()"
   ]
  },
  {
   "cell_type": "code",
   "execution_count": null,
   "metadata": {
    "ExecuteTime": {
     "start_time": "2022-05-05T22:05:20.393Z"
    },
    "scrolled": true
   },
   "outputs": [],
   "source": [
    "# app = Dash(__name__, external_stylesheets=[dbc.themes.DARKLY],\n",
    "#                 meta_tags = [{'name' : 'viewport',\n",
    "#                               'content' : 'width=dice_width, initial-scale=1.0'}])\n",
    "\n",
    "\n",
    "# app.layout = dbc.Container([\n",
    "#     html.P(' '),\n",
    "#     html.Div(id = '1st-line-separator', style = {'border' : '4px LightCoral solid'}),   \n",
    "#         dbc.Card([\n",
    "#             dbc.CardBody([\n",
    "#                 html.H2('ACIDENTES RODOVIÁRIOS', style = {'color' : '#F8F9F9'},\n",
    "#                    className = 'text-center'),\n",
    "#                 html.H5('2008 à 2021', style = {'color' : '#F8F9F9'},\n",
    "#                    className = 'text-center')\n",
    "#                     ],  style={'border' : 'none'})\n",
    "#                 ]),     \n",
    "#     html.P(' '),\n",
    "#     html.Div([\n",
    "#         html.Span('Dashboard referente a acidentes rodoviários registrados no período de 2008 à 2021\\ne disponibilizados pela Polícia Federal do Brasil'),\n",
    "#         ], style = {'color' : '#A6ACAF', 'fontSize': 10, 'font-weight': 'light'},\n",
    "#     className = 'text-center'),\n",
    "#     html.P(' '),    \n",
    "#     html.Div(id = '2st-line-separator', style = {'border' : '2px #343a40 solid'}),\n",
    "#     html.P(' '),\n",
    "    \n",
    "#     html.Div([\n",
    "#     dbc.Row([\n",
    "#         dbc.Col([\n",
    "#             html.H1('Ano da ocorrência', style = {'color' : 'white', 'fontSize' : 9,\n",
    "#                                                     'font-weight' : 'light',\n",
    "#                                                   'font-weight' : 'light'\n",
    "#                                                     }),\n",
    "#             ],width = {'size' : 6}, className = 'col-ano-ocorrencia'),\n",
    "        \n",
    "#         dbc.Col([\n",
    "#             html.H1('UF da ocorrência', style = {'color' : 'white', 'fontSize' : 9,\n",
    "#                                             'font-weight' : 'light',\n",
    "#                                             'font-weight' : 'light'}),\n",
    "#         ], width = {'size' : 5}, className = 'col-uf-ocorrencia')\n",
    "#     ], style = {'width' : '100%'}),\n",
    "        \n",
    "#     dbc.Row([\n",
    "#         dbc.Col([\n",
    "#             dcc.Slider(min = 2007, max = 2021, value = 2007, step = 1,\n",
    "#                        className = 'year-slider',\n",
    "#                       marks = {str(i) : i for i in df['year'].unique()})\n",
    "#         ], width = {'size' : 6}),\n",
    "        \n",
    "#         dbc.Col([\n",
    "#             dcc.Dropdown(options = ['SP', 'RJ', 'SE'],\n",
    "#                          style={'height': '20px', \n",
    "#                                 'width' : '95%',\n",
    "#                                 'display': 'inline-block'},\n",
    "#                         className = 'dropdown-states'),\n",
    "#         ], width = {'size' : 5}),\n",
    "         \n",
    "\n",
    "#         ], className = 'container-year-slider',\n",
    "#             style = {'width' : '100%'})\n",
    "#     ])\n",
    "        \n",
    "    \n",
    "# ])\n",
    "        \n",
    "\n",
    "# if __name__ == '__main__':\n",
    "#     app.run_server()"
   ]
  },
  {
   "cell_type": "code",
   "execution_count": null,
   "metadata": {},
   "outputs": [],
   "source": []
  },
  {
   "cell_type": "code",
   "execution_count": 2,
   "metadata": {
    "ExecuteTime": {
     "end_time": "2022-05-11T14:17:57.447697Z",
     "start_time": "2022-05-11T14:17:51.525015Z"
    }
   },
   "outputs": [],
   "source": [
    "df = pd.read_csv('cars_accident_formated.csv', sep = ';', low_memory=False)"
   ]
  },
  {
   "cell_type": "code",
   "execution_count": null,
   "metadata": {
    "ExecuteTime": {
     "end_time": "2022-05-09T13:27:30.111446Z",
     "start_time": "2022-05-09T13:27:30.101471Z"
    }
   },
   "outputs": [],
   "source": [
    "# app = Dash(__name__, external_stylesheets=[dbc.themes.DARKLY],\n",
    "#                 meta_tags = [{'name' : 'viewport',\n",
    "#                               'content' : 'width=dice_width, initial-scale=1.0'}])\n",
    "\n",
    "\n",
    "# app.layout = dbc.Container([\n",
    "#     html.P(' '),\n",
    "#     html.Div(id = '1st-line-separator', style = {'border' : '4px LightCoral solid'}),   \n",
    "#         dbc.Card([\n",
    "#             dbc.CardBody([\n",
    "#                 html.H2('ACIDENTES RODOVIÁRIOS', style = {'color' : '#F8F9F9'},\n",
    "#                    className = 'text-center'),\n",
    "#                 html.H5('2008 à 2021', style = {'color' : '#F8F9F9'},\n",
    "#                    className = 'text-center')\n",
    "#                     ],  style={'border' : 'none'})\n",
    "#                 ]),     \n",
    "#     html.P(' '),\n",
    "#     html.Div([\n",
    "#         html.Span('Dashboard referente a acidentes rodoviários registrados no período de 2008 à 2021\\ne disponibilizados pela Polícia Federal do Brasil'),\n",
    "#         ], style = {'color' : '#A6ACAF', 'fontSize': 10, 'font-weight': 'light'},\n",
    "#     className = 'text-center'),\n",
    "#     html.P(' '),    \n",
    "#     html.Div(id = '2st-line-separator', style = {'border' : '2px #343a40 solid'}),\n",
    "#     html.P(' '),\n",
    "      \n",
    "#     dbc.Row([\n",
    "#         dbc.Col([\n",
    "#             html.H1('Ano da ocorrência', style = {'color' : 'white', 'fontSize' : 9,\n",
    "#                                                     'font-weight' : 'light',\n",
    "#                                                   'font-weight' : 'light'}),\n",
    "#         dcc.RangeSlider(id='selected_year_slider',\n",
    "#                             marks = {str(i) : i for i in sorted(df['year'].unique())},\n",
    "#                             count = 1,\n",
    "#                              min = 2007,\n",
    "#                              max = 2021,\n",
    "#                              step = 1,\n",
    "#                              className='year-slider'),\n",
    "            \n",
    "            \n",
    "#             dcc.Graph(id='line-plot', figure = {}),\n",
    "#             ],width = {'size' : 6}, className = 'col-ano-ocorrencia'),\n",
    "        \n",
    "            \n",
    "        \n",
    "#         dbc.Col([\n",
    "#             html.H1('UF da ocorrência', style = {'color' : 'white', 'fontSize' : 9,\n",
    "#                                             'font-weight' : 'light',\n",
    "#                                             'font-weight' : 'light'}),\n",
    "#             dcc.Dropdown(id='dropdown-uf',\n",
    "#                          multi = True,\n",
    "#                          options = [{'label' : x, 'value' : x} for x in sorted(df['uf'].unique()) if x != '(null)'],\n",
    "#                          style={'height': '20px', \n",
    "#                                 'width' : '95%',\n",
    "#                                 'display': 'inline-block'},\n",
    "#                         className = 'dropdown-states'),\n",
    "            \n",
    "#             dcc.Graph(id = 'bar-plot-uf', figure = {})\n",
    "            \n",
    "#         ], width = {'size' : 6}, className = 'col-uf-ocorrencia')\n",
    "#     ], style = {'width' : '100%'}, className = 'container-row-filters')\n",
    "\n",
    "        \n",
    "# ])\n",
    "\n",
    "\n",
    "# @app.callback(\n",
    "#     Output('line-plot', 'figure'),\n",
    "#     Input('selected_year_slider', 'value'))\n",
    "# def update_line_plot(selected_year_slider):\n",
    "#     plot1 = df['year'].value_counts().to_frame().reset_index().rename(columns = {'index' : 'year',\n",
    "#             'year' : 'qt_acidentes'}).sort_values(by='year')\n",
    "#     plot1 = plot1[plot1['year'].isin(selected_year_slider)]\n",
    "#     fig1 = px.line(plot1, x = 'year', y = 'qt_acidentes')\n",
    "\n",
    "#     fig1.update_layout(\n",
    "#     {'plot_bgcolor' : 'rgba(0,0,0,0.0)',\n",
    "#     'paper_bgcolor': 'rgba(0, 0, 0, 0)'}  )\n",
    "#     fig1.update_xaxes(showgrid = False, showline= True)\n",
    "#     fig1.update_yaxes(showgrid = False, showticklabels = True, title = None, showline= True)\n",
    "     \n",
    "#     return fig1\n",
    "    \n",
    "# @app.callback(\n",
    "#     Output('bar-plot-uf', 'figure'),\n",
    "#     Input('dropdown-uf', 'value'))\n",
    "# def update_bar_plot(selected_uf):\n",
    "#     plot2 = df['uf'].value_counts().to_frame().reset_index().rename(columns=({'index' : 'uf',\n",
    "#                                                                  'uf' : 'qt'}))\n",
    "#     #plot2 = plot2[:-1]\n",
    "#     plot2 = plot2[plot2['uf'].isin(selected_uf)]\n",
    "#     fig2 = px.bar(plot2, x = 'uf', y='qt')\n",
    "    \n",
    "#     fig2.update_layout(\n",
    "#     {'plot_bgcolor' : 'rgba(0,0,0,0.0)',\n",
    "#     'paper_bgcolor': 'rgba(0, 0, 0, 0)'}  )\n",
    "#     fig2.update_xaxes(showgrid = False, showline= True)\n",
    "#     fig2.update_yaxes(showgrid = False, showticklabels = True, title = None, showline= True)\n",
    "#     return fig2\n",
    "        \n",
    "# #fig.update_layout(yaxis={'visible': False, 'showticklabels': False})\n",
    "\n",
    "\n",
    "# if __name__ == '__main__':\n",
    "#     app.run_server()"
   ]
  },
  {
   "cell_type": "code",
   "execution_count": null,
   "metadata": {
    "ExecuteTime": {
     "end_time": "2022-05-09T12:42:25.476248Z",
     "start_time": "2022-05-09T12:42:25.473138Z"
    }
   },
   "outputs": [],
   "source": [
    "# px.line(df['year'].value_counts().to_frame().reset_index().rename(columns = {'index' : 'year',\n",
    "#             'year' : 'qt_acidentes'}).sort_values(by='year'), x = 'year', y = 'qt_acidentes')"
   ]
  },
  {
   "cell_type": "code",
   "execution_count": 27,
   "metadata": {
    "ExecuteTime": {
     "end_time": "2022-05-11T14:32:29.767432Z",
     "start_time": "2022-05-11T14:32:29.760508Z"
    }
   },
   "outputs": [],
   "source": [
    "# app = Dash(__name__, external_stylesheets=[dbc.themes.DARKLY],\n",
    "#                 meta_tags = [{'name' : 'viewport',\n",
    "#                               'content' : 'width=dice_width, initial-scale=1.0'}])\n",
    "\n",
    "\n",
    "# app.layout = dbc.Container([\n",
    "#     html.P(' '),\n",
    "#     html.Div(id = 'first-line-separator', style = {'border' : '4px LightCoral solid'}),   \n",
    "#         dbc.Card([\n",
    "#             dbc.CardBody([\n",
    "#                 html.H2('ACIDENTES RODOVIÁRIOS', style = {'color' : '#F8F9F9'},\n",
    "#                    className = 'text-center'),\n",
    "#                 html.H5('2008 à 2021', style = {'color' : '#F8F9F9'},\n",
    "#                    className = 'text-center')\n",
    "#                     ],  style={'border' : 'none'})\n",
    "#                 ]),     \n",
    "#     html.P(' '),\n",
    "#     html.Div([\n",
    "#         html.Span('Dashboard referente a acidentes rodoviários registrados no período de 2008 à 2021\\ne disponibilizados pela Polícia Federal do Brasil'),\n",
    "#         ], style = {'color' : '#A6ACAF', 'fontSize': 10, 'font-weight': 'light'},\n",
    "#     className = 'text-center'),\n",
    "#     html.P(' '),    \n",
    "#     html.Div(id = '2st-line-separator', style = {'border' : '2px #343a40 solid'}),\n",
    "#     html.P(' '),\n",
    "      \n",
    "#     html.Div([\n",
    "#     dbc.Row([\n",
    "#         dbc.Col([\n",
    "#             html.H1('Ano da ocorrência', style = {'color' : 'white', 'fontSize' : 9,\n",
    "#                                                     'font-weight' : 'light',\n",
    "#                                                   'font-weight' : 'light'}),\n",
    "#         dcc.RangeSlider(id='selected_year_slider',\n",
    "#                             marks = {str(i) : i for i in sorted(df['year'].unique())},\n",
    "#                             count = 1,\n",
    "#                              min = 2007,\n",
    "#                              max = 2021,\n",
    "#                              step = 1,\n",
    "#                              className='year-slider')\n",
    "#             ],width = {'size' : 6}, className = 'col-ano-ocorrencia'),\n",
    "        \n",
    "#         dbc.Col([\n",
    "#             html.H1('UF da ocorrência', style = {'color' : 'white', 'fontSize' : 9,\n",
    "#                                             'font-weight' : 'light'}),\n",
    "#             dcc.Dropdown(id='dropdown-uf',\n",
    "#                          multi = True,\n",
    "#                          options = [{'label' : x, 'value' : x} for x in sorted(df['uf'].unique()) if x != '(null)'],\n",
    "#                          style={'height': '20px', \n",
    "#                                 'width' : '95%',\n",
    "#                                 'display': 'inline-block'},\n",
    "#                         className = 'dropdown-states'),\n",
    "            \n",
    "#             ],width = {'size' : 2}, className = 'col-uf-ocorrencia'),\n",
    "        \n",
    "#         dbc.Col([\n",
    "#             html.H1('Vítimas', style = {'color' : 'white',\n",
    "#                                        'fontSize' : 9,\n",
    "#                                        'font-weight' : 'light'}),\n",
    "#             dcc.Checklist(id='vitimas-selected',\n",
    "#                           options = [{'label' : 'Total', 'value': 'Total'},\n",
    "#                                      {'label' : 'Ilesos', 'value' : 'Ilesos'},\n",
    "#                                      {'label' : 'Feridos', 'value' : 'Feridos'},\n",
    "#                                      {'label' : 'Mortos', 'value' : 'Mortos'},\n",
    "#                                     ]\n",
    "#                          ,inputStyle={'margin-right': '3px', 'margin-left': '5px'},\n",
    "#                          style = {'fontSize' : 9},\n",
    "#                          )\n",
    "#         ], className = 'vitimas-col'),\n",
    "        \n",
    "#     ], style = {'width' : '100%'}, className = 'container-row-filters')\n",
    "#         ]),\n",
    "        \n",
    "#     html.Div([\n",
    "#             dbc.Row([\n",
    "#                 dbc.Col([\n",
    "#                     dcc.Graph(id='line-plot', figure = {})\n",
    "#                 ])\n",
    "#             ])\n",
    "#         ])\n",
    "\n",
    "        \n",
    "# ])\n",
    "    \n",
    "\n",
    "# if __name__ == '__main__':\n",
    "#     app.run_server()"
   ]
  },
  {
   "cell_type": "code",
   "execution_count": null,
   "metadata": {
    "ExecuteTime": {
     "end_time": "2022-05-10T20:37:39.214904Z",
     "start_time": "2022-05-10T20:37:38.991013Z"
    }
   },
   "outputs": [],
   "source": [
    "selected_year_slider = [2011, 2012, 2013, 2014]\n",
    "\n",
    "selected_uf = ['SP', 'ES']\n",
    "df[df['year'].isin(selected_year_slider) & (df['uf'].isin(selected_uf))]"
   ]
  },
  {
   "cell_type": "code",
   "execution_count": null,
   "metadata": {
    "ExecuteTime": {
     "end_time": "2022-05-10T20:37:39.946516Z",
     "start_time": "2022-05-10T20:37:39.788932Z"
    }
   },
   "outputs": [],
   "source": [
    "ak = df[df['year'].isin(selected_year_slider) & (df['uf'].isin(selected_uf))][['year', 'pessoas']].groupby('year', as_index = False).sum()\n",
    "\n",
    "\n"
   ]
  },
  {
   "cell_type": "code",
   "execution_count": null,
   "metadata": {
    "ExecuteTime": {
     "end_time": "2022-05-10T20:37:40.432153Z",
     "start_time": "2022-05-10T20:37:40.426871Z"
    }
   },
   "outputs": [],
   "source": [
    "ak['year'] = ak['year'].astype(str)"
   ]
  },
  {
   "cell_type": "code",
   "execution_count": null,
   "metadata": {
    "ExecuteTime": {
     "end_time": "2022-05-10T20:37:40.819826Z",
     "start_time": "2022-05-10T20:37:40.809909Z"
    }
   },
   "outputs": [],
   "source": [
    "ak"
   ]
  },
  {
   "cell_type": "code",
   "execution_count": null,
   "metadata": {
    "ExecuteTime": {
     "end_time": "2022-05-10T20:37:41.377616Z",
     "start_time": "2022-05-10T20:37:41.297780Z"
    }
   },
   "outputs": [],
   "source": [
    "px.line(ak, x = 'year', y='pessoas')"
   ]
  },
  {
   "cell_type": "code",
   "execution_count": null,
   "metadata": {
    "ExecuteTime": {
     "end_time": "2022-05-10T21:08:26.325876Z",
     "start_time": "2022-05-10T21:08:26.245885Z"
    }
   },
   "outputs": [],
   "source": [
    "df[['year','uf','pessoas', 'feridos', 'ilesos', 'mortos']]"
   ]
  },
  {
   "cell_type": "code",
   "execution_count": null,
   "metadata": {
    "ExecuteTime": {
     "end_time": "2022-05-10T21:10:53.304723Z",
     "start_time": "2022-05-10T21:10:53.267976Z"
    }
   },
   "outputs": [],
   "source": []
  },
  {
   "cell_type": "code",
   "execution_count": null,
   "metadata": {
    "ExecuteTime": {
     "end_time": "2022-05-11T01:46:05.453089Z",
     "start_time": "2022-05-11T01:46:05.447856Z"
    }
   },
   "outputs": [],
   "source": [
    "df.columns"
   ]
  },
  {
   "cell_type": "code",
   "execution_count": null,
   "metadata": {
    "ExecuteTime": {
     "end_time": "2022-05-11T01:46:49.906342Z",
     "start_time": "2022-05-11T01:46:49.795333Z"
    }
   },
   "outputs": [],
   "source": [
    "df['causa_acidente'].value_counts().head(10)"
   ]
  },
  {
   "cell_type": "markdown",
   "metadata": {},
   "source": [
    "# "
   ]
  },
  {
   "cell_type": "code",
   "execution_count": 132,
   "metadata": {
    "ExecuteTime": {
     "end_time": "2022-05-11T19:03:19.382838Z",
     "start_time": "2022-05-11T19:03:11.104446Z"
    }
   },
   "outputs": [
    {
     "name": "stdout",
     "output_type": "stream",
     "text": [
      "Dash is running on http://127.0.0.1:8050/\n",
      "\n",
      "Dash is running on http://127.0.0.1:8050/\n",
      "\n",
      "Dash is running on http://127.0.0.1:8050/\n",
      "\n",
      "Dash is running on http://127.0.0.1:8050/\n",
      "\n",
      "Dash is running on http://127.0.0.1:8050/\n",
      "\n",
      "Dash is running on http://127.0.0.1:8050/\n",
      "\n",
      "Dash is running on http://127.0.0.1:8050/\n",
      "\n",
      "Dash is running on http://127.0.0.1:8050/\n",
      "\n",
      "Dash is running on http://127.0.0.1:8050/\n",
      "\n",
      "Dash is running on http://127.0.0.1:8050/\n",
      "\n",
      "Dash is running on http://127.0.0.1:8050/\n",
      "\n",
      "Dash is running on http://127.0.0.1:8050/\n",
      "\n",
      "Dash is running on http://127.0.0.1:8050/\n",
      "\n",
      "Dash is running on http://127.0.0.1:8050/\n",
      "\n",
      "Dash is running on http://127.0.0.1:8050/\n",
      "\n",
      "Dash is running on http://127.0.0.1:8050/\n",
      "\n",
      "Dash is running on http://127.0.0.1:8050/\n",
      "\n",
      "Dash is running on http://127.0.0.1:8050/\n",
      "\n",
      "Dash is running on http://127.0.0.1:8050/\n",
      "\n",
      "Dash is running on http://127.0.0.1:8050/\n",
      "\n",
      "Dash is running on http://127.0.0.1:8050/\n",
      "\n",
      "Dash is running on http://127.0.0.1:8050/\n",
      "\n",
      "Dash is running on http://127.0.0.1:8050/\n",
      "\n",
      "Dash is running on http://127.0.0.1:8050/\n",
      "\n",
      "Dash is running on http://127.0.0.1:8050/\n",
      "\n",
      "Dash is running on http://127.0.0.1:8050/\n",
      "\n",
      "Dash is running on http://127.0.0.1:8050/\n",
      "\n",
      "Dash is running on http://127.0.0.1:8050/\n",
      "\n",
      "Dash is running on http://127.0.0.1:8050/\n",
      "\n",
      "Dash is running on http://127.0.0.1:8050/\n",
      "\n",
      "Dash is running on http://127.0.0.1:8050/\n",
      "\n",
      "Dash is running on http://127.0.0.1:8050/\n",
      "\n",
      "Dash is running on http://127.0.0.1:8050/\n",
      "\n",
      "Dash is running on http://127.0.0.1:8050/\n",
      "\n",
      "Dash is running on http://127.0.0.1:8050/\n",
      "\n",
      "Dash is running on http://127.0.0.1:8050/\n",
      "\n",
      "Dash is running on http://127.0.0.1:8050/\n",
      "\n",
      "Dash is running on http://127.0.0.1:8050/\n",
      "\n",
      "Dash is running on http://127.0.0.1:8050/\n",
      "\n",
      "Dash is running on http://127.0.0.1:8050/\n",
      "\n",
      "Dash is running on http://127.0.0.1:8050/\n",
      "\n",
      "Dash is running on http://127.0.0.1:8050/\n",
      "\n",
      "Dash is running on http://127.0.0.1:8050/\n",
      "\n",
      "Dash is running on http://127.0.0.1:8050/\n",
      "\n",
      "Dash is running on http://127.0.0.1:8050/\n",
      "\n",
      "Dash is running on http://127.0.0.1:8050/\n",
      "\n",
      "Dash is running on http://127.0.0.1:8050/\n",
      "\n",
      "Dash is running on http://127.0.0.1:8050/\n",
      "\n",
      "Dash is running on http://127.0.0.1:8050/\n",
      "\n",
      "Dash is running on http://127.0.0.1:8050/\n",
      "\n",
      "Dash is running on http://127.0.0.1:8050/\n",
      "\n",
      "Dash is running on http://127.0.0.1:8050/\n",
      "\n",
      "Dash is running on http://127.0.0.1:8050/\n",
      "\n",
      "Dash is running on http://127.0.0.1:8050/\n",
      "\n",
      "Dash is running on http://127.0.0.1:8050/\n",
      "\n",
      "Dash is running on http://127.0.0.1:8050/\n",
      "\n",
      "Dash is running on http://127.0.0.1:8050/\n",
      "\n",
      "Dash is running on http://127.0.0.1:8050/\n",
      "\n",
      "Dash is running on http://127.0.0.1:8050/\n",
      "\n",
      "Dash is running on http://127.0.0.1:8050/\n",
      "\n",
      "Dash is running on http://127.0.0.1:8050/\n",
      "\n",
      "Dash is running on http://127.0.0.1:8050/\n",
      "\n",
      "Dash is running on http://127.0.0.1:8050/\n",
      "\n",
      "Dash is running on http://127.0.0.1:8050/\n",
      "\n",
      "Dash is running on http://127.0.0.1:8050/\n",
      "\n",
      "Dash is running on http://127.0.0.1:8050/\n",
      "\n",
      "Dash is running on http://127.0.0.1:8050/\n",
      "\n",
      "Dash is running on http://127.0.0.1:8050/\n",
      "\n",
      "Dash is running on http://127.0.0.1:8050/\n",
      "\n",
      "Dash is running on http://127.0.0.1:8050/\n",
      "\n",
      "Dash is running on http://127.0.0.1:8050/\n",
      "\n",
      "Dash is running on http://127.0.0.1:8050/\n",
      "\n",
      "Dash is running on http://127.0.0.1:8050/\n",
      "\n",
      "Dash is running on http://127.0.0.1:8050/\n",
      "\n",
      "Dash is running on http://127.0.0.1:8050/\n",
      "\n",
      "Dash is running on http://127.0.0.1:8050/\n",
      "\n",
      "Dash is running on http://127.0.0.1:8050/\n",
      "\n",
      "Dash is running on http://127.0.0.1:8050/\n",
      "\n",
      "Dash is running on http://127.0.0.1:8050/\n",
      "\n",
      "Dash is running on http://127.0.0.1:8050/\n",
      "\n",
      "Dash is running on http://127.0.0.1:8050/\n",
      "\n",
      "Dash is running on http://127.0.0.1:8050/\n",
      "\n",
      "Dash is running on http://127.0.0.1:8050/\n",
      "\n",
      "Dash is running on http://127.0.0.1:8050/\n",
      "\n",
      "Dash is running on http://127.0.0.1:8050/\n",
      "\n",
      "Dash is running on http://127.0.0.1:8050/\n",
      "\n",
      "Dash is running on http://127.0.0.1:8050/\n",
      "\n",
      "Dash is running on http://127.0.0.1:8050/\n",
      "\n",
      "Dash is running on http://127.0.0.1:8050/\n",
      "\n",
      "Dash is running on http://127.0.0.1:8050/\n",
      "\n",
      "Dash is running on http://127.0.0.1:8050/\n",
      "\n",
      "Dash is running on http://127.0.0.1:8050/\n",
      "\n",
      "Dash is running on http://127.0.0.1:8050/\n",
      "\n",
      "Dash is running on http://127.0.0.1:8050/\n",
      "\n",
      "Dash is running on http://127.0.0.1:8050/\n",
      "\n",
      " * Serving Flask app '__main__' (lazy loading)\n",
      " * Environment: production\n",
      "\u001b[31m   WARNING: This is a development server. Do not use it in a production deployment.\u001b[0m\n",
      "\u001b[2m   Use a production WSGI server instead.\u001b[0m\n",
      " * Debug mode: off\n"
     ]
    },
    {
     "name": "stderr",
     "output_type": "stream",
     "text": [
      " * Running on http://127.0.0.1:8050/ (Press CTRL+C to quit)\n",
      "127.0.0.1 - - [11/May/2022 16:03:13] \"GET / HTTP/1.1\" 200 -\n",
      "127.0.0.1 - - [11/May/2022 16:03:13] \"\u001b[36mGET /assets/01-style.css?m=1652284845.3013613 HTTP/1.1\u001b[0m\" 304 -\n",
      "127.0.0.1 - - [11/May/2022 16:03:13] \"GET /_dash-layout HTTP/1.1\" 200 -\n",
      "127.0.0.1 - - [11/May/2022 16:03:13] \"GET /_dash-dependencies HTTP/1.1\" 200 -\n",
      "127.0.0.1 - - [11/May/2022 16:03:13] \"GET /_favicon.ico?v=2.0.0 HTTP/1.1\" 200 -\n"
     ]
    }
   ],
   "source": [
    "app = Dash(__name__, external_stylesheets=[dbc.themes.DARKLY],\n",
    "                meta_tags = [{'name' : 'viewport',\n",
    "                              'content' : 'width=dice_width, initial-scale=1.0'}])\n",
    "\n",
    "\n",
    "app.layout = dbc.Container([\n",
    "    html.P(' '),\n",
    "    html.Div(id = 'first-line-separator'),   \n",
    "    html.Div([\n",
    "            html.H2('ACIDENTES RODOVIÁRIOS', className = 'text-general'),\n",
    "            html.H5('2008 à 2021',  className = 'text-general')\n",
    "            ], className = 'div-config'),\n",
    "                    \n",
    "    html.Div([\n",
    "        html.P('Dashboard referente a acidentes rodoviários registrados no período de 2008 à 2021 disponibilizados pela Polícia Federal do Brasil',\n",
    "              id = 'dashboard-sub-title'),\n",
    "        ],\n",
    "   ), \n",
    "    html.Div(id = 'second-line-separator', style = {'border' : '2px #343a40 solid',\n",
    "                                                   'margin-bottom' : '10px'}),\n",
    "    \n",
    "    #filter section\n",
    "    html.Div([\n",
    "        dbc.Row([\n",
    "            dbc.Col([\n",
    "                html.H3('Ano da Ocorrência', className = 'text-filter')\n",
    "            ], width = {'size' : 5}),\n",
    "            \n",
    "            dbc.Col([\n",
    "                html.H3('UF da Ocorrência', className = 'text-filter')\n",
    "            ], width = {'size' : 3}, className = 'cols-filters'),\n",
    "            \n",
    "            dbc.Col([\n",
    "                html.H3('Vítimas', className = 'text-filter')\n",
    "            ], width = {'size' : 4}, className = 'cols-filters')\n",
    "        ])\n",
    "    ], className = 'div-config')\n",
    "      \n",
    "])\n",
    "    \n",
    "\n",
    "if __name__ == '__main__':\n",
    "    app.run_server()"
   ]
  },
  {
   "cell_type": "code",
   "execution_count": 71,
   "metadata": {
    "ExecuteTime": {
     "end_time": "2022-05-11T14:49:29.847898Z",
     "start_time": "2022-05-11T14:49:19.230292Z"
    }
   },
   "outputs": [
    {
     "name": "stdout",
     "output_type": "stream",
     "text": [
      "Dash is running on http://127.0.0.1:8050/\n",
      "\n",
      "Dash is running on http://127.0.0.1:8050/\n",
      "\n",
      "Dash is running on http://127.0.0.1:8050/\n",
      "\n",
      "Dash is running on http://127.0.0.1:8050/\n",
      "\n",
      "Dash is running on http://127.0.0.1:8050/\n",
      "\n",
      "Dash is running on http://127.0.0.1:8050/\n",
      "\n",
      "Dash is running on http://127.0.0.1:8050/\n",
      "\n",
      "Dash is running on http://127.0.0.1:8050/\n",
      "\n",
      "Dash is running on http://127.0.0.1:8050/\n",
      "\n",
      "Dash is running on http://127.0.0.1:8050/\n",
      "\n",
      "Dash is running on http://127.0.0.1:8050/\n",
      "\n",
      "Dash is running on http://127.0.0.1:8050/\n",
      "\n",
      "Dash is running on http://127.0.0.1:8050/\n",
      "\n",
      "Dash is running on http://127.0.0.1:8050/\n",
      "\n",
      "Dash is running on http://127.0.0.1:8050/\n",
      "\n",
      "Dash is running on http://127.0.0.1:8050/\n",
      "\n",
      "Dash is running on http://127.0.0.1:8050/\n",
      "\n",
      "Dash is running on http://127.0.0.1:8050/\n",
      "\n",
      "Dash is running on http://127.0.0.1:8050/\n",
      "\n",
      "Dash is running on http://127.0.0.1:8050/\n",
      "\n",
      "Dash is running on http://127.0.0.1:8050/\n",
      "\n",
      "Dash is running on http://127.0.0.1:8050/\n",
      "\n",
      "Dash is running on http://127.0.0.1:8050/\n",
      "\n",
      "Dash is running on http://127.0.0.1:8050/\n",
      "\n",
      "Dash is running on http://127.0.0.1:8050/\n",
      "\n",
      "Dash is running on http://127.0.0.1:8050/\n",
      "\n",
      "Dash is running on http://127.0.0.1:8050/\n",
      "\n",
      "Dash is running on http://127.0.0.1:8050/\n",
      "\n",
      "Dash is running on http://127.0.0.1:8050/\n",
      "\n",
      "Dash is running on http://127.0.0.1:8050/\n",
      "\n",
      "Dash is running on http://127.0.0.1:8050/\n",
      "\n",
      "Dash is running on http://127.0.0.1:8050/\n",
      "\n",
      "Dash is running on http://127.0.0.1:8050/\n",
      "\n",
      "Dash is running on http://127.0.0.1:8050/\n",
      "\n",
      "Dash is running on http://127.0.0.1:8050/\n",
      "\n",
      "Dash is running on http://127.0.0.1:8050/\n",
      "\n",
      "Dash is running on http://127.0.0.1:8050/\n",
      "\n",
      "Dash is running on http://127.0.0.1:8050/\n",
      "\n",
      "Dash is running on http://127.0.0.1:8050/\n",
      "\n",
      " * Serving Flask app '__main__' (lazy loading)\n",
      " * Environment: production\n",
      "\u001b[31m   WARNING: This is a development server. Do not use it in a production deployment.\u001b[0m\n",
      "\u001b[2m   Use a production WSGI server instead.\u001b[0m\n",
      " * Debug mode: off\n"
     ]
    },
    {
     "name": "stderr",
     "output_type": "stream",
     "text": [
      " * Running on http://127.0.0.1:8050/ (Press CTRL+C to quit)\n",
      "127.0.0.1 - - [11/May/2022 11:49:21] \"GET / HTTP/1.1\" 200 -\n",
      "127.0.0.1 - - [11/May/2022 11:49:21] \"\u001b[36mGET /assets/01-style.css?m=1652280188.9706438 HTTP/1.1\u001b[0m\" 304 -\n",
      "127.0.0.1 - - [11/May/2022 11:49:21] \"GET /_dash-layout HTTP/1.1\" 200 -\n",
      "127.0.0.1 - - [11/May/2022 11:49:21] \"GET /_dash-dependencies HTTP/1.1\" 200 -\n",
      "127.0.0.1 - - [11/May/2022 11:49:21] \"GET /_dash-component-suites/dash/dcc/async-slider.js HTTP/1.1\" 200 -\n",
      "127.0.0.1 - - [11/May/2022 11:49:21] \"GET /_dash-component-suites/dash/dcc/async-dropdown.js HTTP/1.1\" 200 -\n",
      "127.0.0.1 - - [11/May/2022 11:49:21] \"GET /_dash-component-suites/dash/dcc/async-graph.js HTTP/1.1\" 200 -\n",
      "127.0.0.1 - - [11/May/2022 11:49:21] \"GET /_dash-component-suites/dash/dcc/async-plotlyjs.js HTTP/1.1\" 200 -\n",
      "127.0.0.1 - - [11/May/2022 11:49:21] \"GET /_favicon.ico?v=2.0.0 HTTP/1.1\" 200 -\n"
     ]
    }
   ],
   "source": [
    "app = Dash(__name__, external_stylesheets=[dbc.themes.DARKLY],\n",
    "                meta_tags = [{'name' : 'viewport',\n",
    "                              'content' : 'width=dice_width, initial-scale=1.0'}])\n",
    "\n",
    "\n",
    "app.layout = dbc.Container([\n",
    "    html.P(' '),\n",
    "    html.Div(id = '1st-line-separator', style = {'border' : '4px LightCoral solid'}),   \n",
    "        dbc.Card([\n",
    "            dbc.CardBody([\n",
    "                html.H2('ACIDENTES RODOVIÁRIOS', style = {'color' : '#F8F9F9'},\n",
    "                   className = 'text-center'),\n",
    "                html.H5('2008 à 2021', style = {'color' : '#F8F9F9'},\n",
    "                   className = 'text-center')\n",
    "                    ],  style={'border' : 'none'})\n",
    "                ]),     \n",
    "    html.P(' '),\n",
    "    html.Div([\n",
    "        html.Span('Dashboard referente a acidentes rodoviários registrados no período de 2008 à 2021\\ne disponibilizados pela Polícia Federal do Brasil'),\n",
    "        ], style = {'color' : '#A6ACAF', 'fontSize': 10, 'font-weight': 'light'},\n",
    "    className = 'text-center'),\n",
    "    html.P(' '),    \n",
    "    html.Div(id = '2st-line-separator', style = {'border' : '2px #343a40 solid'}),\n",
    "    html.P(' '),\n",
    "      \n",
    "    html.Div([\n",
    "    dbc.Row([\n",
    "        dbc.Col([\n",
    "            html.H1('Ano da ocorrência', style = {'color' : 'white', 'fontSize' : 9,\n",
    "                                                    'font-weight' : 'light',\n",
    "                                                  'font-weight' : 'light'}),\n",
    "        dcc.RangeSlider(id='selected_year_slider',\n",
    "                            marks = {str(i) : i for i in sorted(df['year'].unique())},\n",
    "                            count = 1,\n",
    "                             min = 2007,\n",
    "                             max = 2021,\n",
    "                             step = 1,\n",
    "                             className='year-slider')\n",
    "            ],width = {'size' : 6}, className = 'col-ano-ocorrencia'),\n",
    "        \n",
    "        dbc.Col([\n",
    "            html.H1('UF da ocorrência', style = {'color' : 'white', 'fontSize' : 9,\n",
    "                                            'font-weight' : 'light'}),\n",
    "            dcc.Dropdown(id='dropdown-uf',\n",
    "                         multi = True,\n",
    "                         options = [{'label' : x, 'value' : x} for x in sorted(df['uf'].unique()) if x != '(null)'],\n",
    "                         style={'height': '20px', \n",
    "                                'width' : '95%',\n",
    "                                'display': 'inline-block'},\n",
    "                        className = 'dropdown-states'),\n",
    "            \n",
    "            ],width = {'size' : 2}, className = 'col-uf-ocorrencia'),\n",
    "        \n",
    "        dbc.Col([\n",
    "            html.H1('Vítimas', style = {'color' : 'white',\n",
    "                                       'fontSize' : 9,\n",
    "                                       'font-weight' : 'light'}),\n",
    "            dcc.Checklist(id='vitimas-selected',\n",
    "                          options = [{'label' : 'Total', 'value': 'Total'},\n",
    "                                     {'label' : 'Ilesos', 'value' : 'Ilesos'},\n",
    "                                     {'label' : 'Feridos', 'value' : 'Feridos'},\n",
    "                                     {'label' : 'Mortos', 'value' : 'Mortos'},\n",
    "                                    ]\n",
    "                         ,inputStyle={'margin-right': '3px', 'margin-left': '5px'},\n",
    "                         style = {'fontSize' : 9},\n",
    "                         )\n",
    "        ], className = 'vitimas-col'),\n",
    "        \n",
    "    ], style = {'width' : '100%'}, className = 'container-row-filters')\n",
    "        ]),\n",
    "        \n",
    "    html.Div([\n",
    "            dbc.Row([\n",
    "                dbc.Col([\n",
    "                    dcc.Graph(id='line-plot', figure = {})\n",
    "                ])\n",
    "            ])\n",
    "        ])\n",
    "\n",
    "        \n",
    "])\n",
    "    \n",
    "\n",
    "if __name__ == '__main__':\n",
    "    app.run_server()"
   ]
  },
  {
   "cell_type": "code",
   "execution_count": null,
   "metadata": {},
   "outputs": [],
   "source": []
  }
 ],
 "metadata": {
  "kernelspec": {
   "display_name": "venv-dash",
   "language": "python",
   "name": "venv-dash"
  },
  "language_info": {
   "codemirror_mode": {
    "name": "ipython",
    "version": 3
   },
   "file_extension": ".py",
   "mimetype": "text/x-python",
   "name": "python",
   "nbconvert_exporter": "python",
   "pygments_lexer": "ipython3",
   "version": "3.9.7"
  },
  "toc": {
   "base_numbering": 1,
   "nav_menu": {},
   "number_sections": true,
   "sideBar": true,
   "skip_h1_title": false,
   "title_cell": "Table of Contents",
   "title_sidebar": "Contents",
   "toc_cell": false,
   "toc_position": {},
   "toc_section_display": true,
   "toc_window_display": false
  }
 },
 "nbformat": 4,
 "nbformat_minor": 4
}
