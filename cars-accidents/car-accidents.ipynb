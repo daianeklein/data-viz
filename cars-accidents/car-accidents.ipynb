{
 "cells": [
  {
   "cell_type": "markdown",
   "metadata": {},
   "source": [
    "# PLOTLY DASH - ACIDENTES RODOVIARIOS"
   ]
  },
  {
   "cell_type": "markdown",
   "metadata": {},
   "source": [
    "## Lib's"
   ]
  },
  {
   "cell_type": "code",
   "execution_count": null,
   "metadata": {
    "ExecuteTime": {
     "end_time": "2022-05-18T23:51:12.069206Z",
     "start_time": "2022-05-18T23:51:10.336293Z"
    }
   },
   "outputs": [],
   "source": [
    "import pandas as pd\n",
    "import re\n",
    "import os\n",
    "\n",
    "from dash import Dash\n",
    "import dash_bootstrap_components as dbc\n",
    "from dash.dependencies import Input, Output\n",
    "from dash import dcc\n",
    "from dash import html\n",
    "\n",
    "import plotly.express as px\n",
    "import base64\n",
    "\n",
    "import matplotlib.pyplot as plt\n",
    "import seaborn as sns\n"
   ]
  },
  {
   "cell_type": "markdown",
   "metadata": {},
   "source": [
    "## Dataset"
   ]
  },
  {
   "cell_type": "code",
   "execution_count": null,
   "metadata": {
    "ExecuteTime": {
     "end_time": "2022-05-18T23:51:24.989197Z",
     "start_time": "2022-05-18T23:51:12.072371Z"
    }
   },
   "outputs": [],
   "source": [
    "#reading data\n",
    "path = 'data'\n",
    "lista = []\n",
    "df = pd.DataFrame()\n",
    "\n",
    "for f in os.listdir(path + \"/\"):\n",
    "    frames = pd.read_csv(path + \"/\" + f, encoding = 'latin-1', sep = ';', low_memory = False)\n",
    "    file = re.search(r'\\d+', f).group(0)\n",
    "    \n",
    "    frames['file'] = file\n",
    "    df = df.append(frames, ignore_index=True)"
   ]
  },
  {
   "cell_type": "code",
   "execution_count": null,
   "metadata": {
    "ExecuteTime": {
     "end_time": "2022-05-18T23:51:25.410734Z",
     "start_time": "2022-05-18T23:51:24.991634Z"
    }
   },
   "outputs": [],
   "source": [
    "# data type\n",
    "df['data_inversa'] = df['data_inversa'].astype('datetime64')\n",
    "\n",
    "print(df['data_inversa'].min())\n",
    "print(df['data_inversa'].max())"
   ]
  },
  {
   "cell_type": "code",
   "execution_count": null,
   "metadata": {
    "ExecuteTime": {
     "end_time": "2022-05-18T23:51:25.435375Z",
     "start_time": "2022-05-18T23:51:25.415542Z"
    }
   },
   "outputs": [],
   "source": [
    "df['total'] = df['mortos'] + df['feridos'] + df['ilesos']"
   ]
  },
  {
   "cell_type": "code",
   "execution_count": null,
   "metadata": {
    "ExecuteTime": {
     "end_time": "2022-05-18T23:51:26.831032Z",
     "start_time": "2022-05-18T23:51:25.438224Z"
    }
   },
   "outputs": [],
   "source": [
    "# add new columns\n",
    "df['month'] = df['data_inversa'].dt.month\n",
    "df['year'] = df['data_inversa'].dt.year\n",
    "\n",
    "df['time'] = df['horario'].str.slice(0, 2)\n",
    "\n",
    "print(df['horario'].min(), df['horario'].max())"
   ]
  },
  {
   "cell_type": "code",
   "execution_count": null,
   "metadata": {
    "ExecuteTime": {
     "end_time": "2022-05-18T23:51:28.249373Z",
     "start_time": "2022-05-18T23:51:26.836035Z"
    }
   },
   "outputs": [],
   "source": [
    "# getting only the target columns\n",
    "df1 = df[['dia_semana', 'uf', 'br', 'km',\n",
    "       'municipio', 'causa_acidente', 'tipo_acidente',\n",
    "        'fase_dia', \n",
    "       'condicao_metereologica', 'tipo_pista', \n",
    "       'pessoas', 'mortos', 'feridos_leves', 'feridos_graves', 'ilesos',\n",
    "       'ignorados', 'feridos', 'total','file', 'month', 'year', 'time']]"
   ]
  },
  {
   "cell_type": "code",
   "execution_count": null,
   "metadata": {
    "ExecuteTime": {
     "end_time": "2022-05-18T23:51:32.318045Z",
     "start_time": "2022-05-18T23:51:28.251765Z"
    }
   },
   "outputs": [],
   "source": [
    "#replacing some values\n",
    "df1 = df1.copy(deep = True)\n",
    "\n",
    "df1['dia_semana'] = [x.lower() for x in df1['dia_semana']]\n",
    "df1['dia_semana'] = [x.replace('-feira', '') for x in df1['dia_semana']]\n",
    "\n",
    "df1['causa_acidente'] = df1['causa_acidente'].str.lower()\n",
    "\n",
    "dict_replace = {'ingestão de álcool e/ou substâncias psicoativas pelo pedestre' : 'ingestão de álcool',\n",
    "               'ingestão de álcool ou de substâncias psicoativas pelo pedestre' : 'ingestão de álcool',\n",
    "               'ingestão de álcool pelo condutor' : 'ingestão de álcool',\n",
    "               'redutor de velocidade em desacordo' : 'velocidade incompatível',\n",
    "               'dormindo' : 'condutor dormindo',\n",
    "               'falta de atenção à condução' : 'falta de atenção',\n",
    "               'defeito mecânico em veículo' : 'defeito mecânico no veículo',\n",
    "               'mal súbito do condutor' : 'mal súbito'}\n",
    "\n",
    "df1 = df1.replace({'causa_acidente' : dict_replace})\n"
   ]
  },
  {
   "cell_type": "markdown",
   "metadata": {},
   "source": [
    "# PLOTLY DASHBOARD"
   ]
  },
  {
   "cell_type": "code",
   "execution_count": null,
   "metadata": {
    "ExecuteTime": {
     "end_time": "2022-05-18T23:51:32.769780Z",
     "start_time": "2022-05-18T23:51:32.320327Z"
    }
   },
   "outputs": [],
   "source": [
    "df = df1.copy(deep = True)"
   ]
  },
  {
   "cell_type": "code",
   "execution_count": null,
   "metadata": {
    "ExecuteTime": {
     "end_time": "2022-05-18T23:51:35.353567Z",
     "start_time": "2022-05-18T23:51:32.772618Z"
    }
   },
   "outputs": [],
   "source": [
    "df = df[df['uf'] != '(null)']\n",
    "df = df.dropna()"
   ]
  },
  {
   "cell_type": "code",
   "execution_count": null,
   "metadata": {
    "ExecuteTime": {
     "start_time": "2022-05-19T00:17:23.353Z"
    },
    "scrolled": false
   },
   "outputs": [],
   "source": [
    "app = Dash(__name__, external_stylesheets=[dbc.themes.DARKLY],\n",
    "                meta_tags = [{'name' : 'viewport',\n",
    "                              'content' : 'width=dice_width, initial-scale=1.0'}])\n",
    "\n",
    "\n",
    "app.layout = dbc.Container([\n",
    "    html.P(' '),\n",
    "    html.Div(id = 'first-line-separator'),   \n",
    "    html.Div([\n",
    "            html.H2('ACIDENTES RODOVIÁRIOS', className = 'text-general'),\n",
    "            html.H5('2008 à 2021',  className = 'text-general')\n",
    "            ], className = 'div-config'),\n",
    "                    \n",
    "    html.Div([\n",
    "        html.P('Quantidade de acidentes rodoviários e vítimas registradas no período de 2008 à 2021 e disponibilizados pela Polícia Federal do Brasil',\n",
    "              id = 'dashboard-sub-title'),\n",
    "        ],\n",
    "   ), \n",
    "    html.Div(id = 'second-line-separator', style = {'border' : '2px #343a40 solid',\n",
    "                                                   'margin-bottom' : '10px'}),\n",
    "    \n",
    "    #filter section\n",
    "    html.Div([\n",
    "        dbc.Row([\n",
    "            dbc.Col([\n",
    "                html.H3('Ano da Ocorrência', className = 'text-filter'),\n",
    "                dcc.RangeSlider(\n",
    "                                min=2008,\n",
    "    max=2021,\n",
    "    step=1,\n",
    "    marks = {str(i) : i for i in df['year'].unique()},\n",
    "   value=[i for i in sorted(df['year'].unique())],\n",
    "                 \n",
    "                              id='selected_year_slider',\n",
    "                               className = 'year-slider')],\n",
    "                width = {'size' : 6}),\n",
    "            \n",
    "            dbc.Col([\n",
    "                html.H3('UF da Ocorrência', className = 'text-filter'),\n",
    "                dcc.Dropdown(id='dropdown-uf',\n",
    "                            multi = False,\n",
    "                             options = [{'label' : x, 'value' : x} for x in sorted(df['uf'].unique())],\n",
    "                             className = 'dropdown-states')],\n",
    "            width = {'size' : 2}, className = 'cols-filters'),\n",
    "            \n",
    "            dbc.Col([\n",
    "                html.H3('Vítimas', className = 'text-filter'),\n",
    "                dcc.RadioItems(id='vitimas-selected',\n",
    "                             options = [{'label' : 'total', 'value': 'total'},\n",
    "                                     {'label' : 'ilesos', 'value' : 'ilesos'},\n",
    "                                     {'label' : 'feridos', 'value' : 'feridos'},\n",
    "                                     {'label' : 'mortos', 'value' : 'mortos'},\n",
    "                                    ], value = 'total', className = 'vitimas-col', inputStyle={\"margin-right\": \"20px\"})\n",
    "            ], width = {'size' : 4}, className = 'vitimas-selected')\n",
    "        ])\n",
    "    ], className = 'div-config'),\n",
    "    \n",
    "    html.Div([\n",
    "        dbc.Row([\n",
    "            dbc.Col([\n",
    "                dcc.Graph(id='lineplot', figure = {},\n",
    "                        )\n",
    "            ])\n",
    "        ])\n",
    "    ])\n",
    "      \n",
    "])\n",
    "\n",
    "\n",
    "@app.callback(\n",
    "    Output('lineplot', 'figure'),\n",
    "    [Input('selected_year_slider', 'value'),\n",
    "    Input('dropdown-uf', 'value'),\n",
    "    Input('vitimas-selected', 'value')])\n",
    "def update_line_plot(selected_year_slider, uf_selected, vitimas):\n",
    "    aux = df[(df['year'].isin(selected_year_slider)) & (df['uf'].isin([uf_selected]))]\n",
    "    aux = aux.groupby('year', as_index = False)[vitimas].sum()\n",
    "    \n",
    "    fig = px.line(aux, x = 'year', y = vitimas, height = 300, text = vitimas)\n",
    "    fig.update_layout({\n",
    "        'plot_bgcolor' : '#2f3031',\n",
    "         'paper_bgcolor': '#2f3031'},\n",
    "    margin = dict(l=20, r=20, t=20, b=20))\n",
    "    fig.update_xaxes(type='category',\n",
    "                    showgrid = False,\n",
    "                     showline= True,\n",
    "                     title_text = 'Year',\n",
    "                     color='#c8c9ca',\n",
    "                     title_font = {'size' : 10},\n",
    "                    tickfont=dict(color='#c8c9ca',\n",
    "                                 size = 8))\n",
    "    \n",
    "    fig.update_yaxes(showgrid = False,\n",
    "                     showticklabels = True,\n",
    "                     title = None,\n",
    "                     showline= True,\n",
    "                     title_text = 'Quantidade',\n",
    "                     color='#c8c9ca',\n",
    "                     title_font = {'size' : 10},\n",
    "                    tickfont=dict(color='#c8c9ca',\n",
    "                                 size = 8))\n",
    "    \n",
    "    fig.update_traces(line_color = '#c8c9ca',\n",
    "                      line_width=1.5,\n",
    "                     textfont_size=6.5,\n",
    "                     textposition='top center',\n",
    "                    textfont_color = 'grey')\n",
    "\n",
    "    return fig\n",
    "\n",
    "\n",
    "\n",
    "if __name__ == '__main__':\n",
    "    app.run_server()\n",
    "    \n",
    "    \n"
   ]
  }
 ],
 "metadata": {
  "kernelspec": {
   "display_name": "venv-dash",
   "language": "python",
   "name": "venv-dash"
  },
  "language_info": {
   "codemirror_mode": {
    "name": "ipython",
    "version": 3
   },
   "file_extension": ".py",
   "mimetype": "text/x-python",
   "name": "python",
   "nbconvert_exporter": "python",
   "pygments_lexer": "ipython3",
   "version": "3.9.7"
  },
  "toc": {
   "base_numbering": 1,
   "nav_menu": {},
   "number_sections": true,
   "sideBar": true,
   "skip_h1_title": false,
   "title_cell": "Table of Contents",
   "title_sidebar": "Contents",
   "toc_cell": false,
   "toc_position": {},
   "toc_section_display": true,
   "toc_window_display": false
  }
 },
 "nbformat": 4,
 "nbformat_minor": 4
}
