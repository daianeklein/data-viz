{
 "cells": [
  {
   "cell_type": "code",
   "execution_count": 1,
   "metadata": {
    "ExecuteTime": {
     "end_time": "2021-11-11T14:46:27.085970Z",
     "start_time": "2021-11-11T14:46:25.106262Z"
    }
   },
   "outputs": [],
   "source": [
    "import dash\n",
    "import dash_core_components as dcc\n",
    "import dash_html_components as html\n",
    "from dash.dependencies import Input, Output"
   ]
  },
  {
   "cell_type": "code",
   "execution_count": 2,
   "metadata": {
    "ExecuteTime": {
     "end_time": "2021-11-11T13:11:36.713544Z",
     "start_time": "2021-11-11T13:11:25.708315Z"
    }
   },
   "outputs": [
    {
     "name": "stdout",
     "output_type": "stream",
     "text": [
      " * Serving Flask app 'dash' (lazy loading)\n",
      " * Environment: production\n",
      "\u001b[31m   WARNING: This is a development server. Do not use it in a production deployment.\u001b[0m\n",
      "\u001b[2m   Use a production WSGI server instead.\u001b[0m\n",
      " * Debug mode: off\n"
     ]
    },
    {
     "name": "stderr",
     "output_type": "stream",
     "text": [
      " * Running on http://127.0.0.1:8050/ (Press CTRL+C to quit)\n",
      "127.0.0.1 - - [11/Nov/2021 10:11:27] \"GET / HTTP/1.1\" 200 -\n",
      "127.0.0.1 - - [11/Nov/2021 10:11:31] \"GET /_dash-layout HTTP/1.1\" 200 -\n",
      "127.0.0.1 - - [11/Nov/2021 10:11:31] \"GET /_dash-dependencies HTTP/1.1\" 200 -\n",
      "127.0.0.1 - - [11/Nov/2021 10:11:31] \"POST /_dash-update-component HTTP/1.1\" 200 -\n",
      "127.0.0.1 - - [11/Nov/2021 10:11:31] \"GET /favicon.ico HTTP/1.1\" 200 -\n"
     ]
    }
   ],
   "source": [
    "app = dash.Dash()\n",
    "\n",
    "app.layout = html.Div([\n",
    "    dcc.Input(id = 'my-id', value = 'Initial Text', type = 'text'),\n",
    "    html.Div(id = 'my-div')\n",
    "\n",
    "])\n",
    "\n",
    "@app.callback(Output(component_id = 'my-div', component_property = 'children'),\n",
    "            [Input(component_id = 'my-id', component_property='value')])\n",
    "def update_output_div(input_value):\n",
    "    return \"You entered: {}\".format(input_value)\n",
    "\n",
    "\n",
    "\n",
    "if __name__ == '__main__':\n",
    "    app.run_server()\n"
   ]
  },
  {
   "cell_type": "markdown",
   "metadata": {},
   "source": [
    "# SCATTER"
   ]
  },
  {
   "cell_type": "code",
   "execution_count": 1,
   "metadata": {
    "ExecuteTime": {
     "end_time": "2021-11-11T14:47:37.842790Z",
     "start_time": "2021-11-11T14:47:37.837846Z"
    }
   },
   "outputs": [],
   "source": [
    "import dash\n",
    "import dash_core_components as dcc\n",
    "import dash_html_components as html\n",
    "\n",
    "from dash.dependencies import Input, Output\n",
    "import plotly.graph_objs as go\n",
    "import pandas as pd"
   ]
  },
  {
   "cell_type": "code",
   "execution_count": 5,
   "metadata": {
    "ExecuteTime": {
     "end_time": "2021-11-11T14:48:31.757467Z",
     "start_time": "2021-11-11T14:48:31.713716Z"
    }
   },
   "outputs": [
    {
     "data": {
      "text/html": "<div>\n<style scoped>\n    .dataframe tbody tr th:only-of-type {\n        vertical-align: middle;\n    }\n\n    .dataframe tbody tr th {\n        vertical-align: top;\n    }\n\n    .dataframe thead th {\n        text-align: right;\n    }\n</style>\n<table border=\"1\" class=\"dataframe\">\n  <thead>\n    <tr style=\"text-align: right;\">\n      <th></th>\n      <th>country</th>\n      <th>year</th>\n      <th>pop</th>\n      <th>continent</th>\n      <th>lifeExp</th>\n      <th>gdpPercap</th>\n    </tr>\n  </thead>\n  <tbody>\n    <tr>\n      <th>0</th>\n      <td>Afghanistan</td>\n      <td>1952</td>\n      <td>8425333.0</td>\n      <td>Asia</td>\n      <td>28.801</td>\n      <td>779.445314</td>\n    </tr>\n    <tr>\n      <th>1</th>\n      <td>Afghanistan</td>\n      <td>1957</td>\n      <td>9240934.0</td>\n      <td>Asia</td>\n      <td>30.332</td>\n      <td>820.853030</td>\n    </tr>\n    <tr>\n      <th>2</th>\n      <td>Afghanistan</td>\n      <td>1962</td>\n      <td>10267083.0</td>\n      <td>Asia</td>\n      <td>31.997</td>\n      <td>853.100710</td>\n    </tr>\n    <tr>\n      <th>3</th>\n      <td>Afghanistan</td>\n      <td>1967</td>\n      <td>11537966.0</td>\n      <td>Asia</td>\n      <td>34.020</td>\n      <td>836.197138</td>\n    </tr>\n    <tr>\n      <th>4</th>\n      <td>Afghanistan</td>\n      <td>1972</td>\n      <td>13079460.0</td>\n      <td>Asia</td>\n      <td>36.088</td>\n      <td>739.981106</td>\n    </tr>\n  </tbody>\n</table>\n</div>",
      "text/plain": "       country  year         pop continent  lifeExp   gdpPercap\n0  Afghanistan  1952   8425333.0      Asia   28.801  779.445314\n1  Afghanistan  1957   9240934.0      Asia   30.332  820.853030\n2  Afghanistan  1962  10267083.0      Asia   31.997  853.100710\n3  Afghanistan  1967  11537966.0      Asia   34.020  836.197138\n4  Afghanistan  1972  13079460.0      Asia   36.088  739.981106"
     },
     "execution_count": 5,
     "metadata": {},
     "output_type": "execute_result"
    }
   ],
   "source": [
    "df = pd.read_csv('/Users/daianeklein/Documents/Data Science/Data-Viz/Plotly-Dash/Plotly-Dash/Plotly-Dashboards-with-Dash/Data/gapminderDataFiveYear.csv')\n",
    "df.head()"
   ]
  },
  {
   "cell_type": "code",
   "execution_count": 17,
   "metadata": {
    "ExecuteTime": {
     "end_time": "2021-11-11T15:00:04.028167Z",
     "start_time": "2021-11-11T14:59:51.898148Z"
    }
   },
   "outputs": [
    {
     "name": "stdout",
     "output_type": "stream",
     "text": [
      " * Serving Flask app 'dash' (lazy loading)\n",
      " * Environment: production\n",
      "\u001b[31m   WARNING: This is a development server. Do not use it in a production deployment.\u001b[0m\n",
      "\u001b[2m   Use a production WSGI server instead.\u001b[0m\n",
      " * Debug mode: off\n"
     ]
    },
    {
     "name": "stderr",
     "output_type": "stream",
     "text": [
      " * Running on http://127.0.0.1:8050/ (Press CTRL+C to quit)\n",
      "127.0.0.1 - - [11/Nov/2021 12:15:41] \"GET / HTTP/1.1\" 200 -\n",
      "127.0.0.1 - - [11/Nov/2021 12:15:41] \"GET /_dash-layout HTTP/1.1\" 200 -\n",
      "127.0.0.1 - - [11/Nov/2021 12:15:41] \"GET /_dash-dependencies HTTP/1.1\" 200 -\n",
      "127.0.0.1 - - [11/Nov/2021 12:15:41] \"GET /favicon.ico HTTP/1.1\" 200 -\n",
      "127.0.0.1 - - [11/Nov/2021 12:15:41] \"POST /_dash-update-component HTTP/1.1\" 200 -\n",
      "127.0.0.1 - - [11/Nov/2021 12:15:47] \"POST /_dash-update-component HTTP/1.1\" 200 -\n",
      "127.0.0.1 - - [11/Nov/2021 12:15:48] \"POST /_dash-update-component HTTP/1.1\" 200 -\n",
      "127.0.0.1 - - [11/Nov/2021 12:15:50] \"POST /_dash-update-component HTTP/1.1\" 200 -\n"
     ]
    }
   ],
   "source": [
    "app = dash.Dash()\n",
    "\n",
    "year_options = []\n",
    "for year in df['year'].unique():\n",
    "    year_options.append({'label' :str(year), 'value' : year})\n",
    "\n",
    "app.layout = html.Div([\n",
    "    dcc.Graph( id = 'graph'),\n",
    "    dcc.Dropdown(id = 'year-picker', options = year_options,\n",
    "                value=df['year'].min())\n",
    "])\n",
    "\n",
    "@app.callback(Output('graph', 'figure'),\n",
    "             [Input('year-picker', 'value')])\n",
    "\n",
    "\n",
    "def update_figure(selected_year):\n",
    "    \n",
    "    #data only for selected year from dropdown\n",
    "    filtered_df = df[df['year'] == selected_year]\n",
    "    traces = []\n",
    "    for continent_name in filtered_df['continent'].unique():\n",
    "        df_by_continent = filtered_df[filtered_df['continent'] == continent_name]\n",
    "        traces.append(go.Scatter(\n",
    "            x = df_by_continent['gdpPercap'],\n",
    "            y = df_by_continent['lifeExp'],\n",
    "            text = df_by_continent['country'],\n",
    "            mode = 'markers',\n",
    "            opacity = 0.7,\n",
    "            marker = {'size' : 15},\n",
    "            name = continent_name\n",
    "        ))\n",
    "        \n",
    "    \n",
    "    return {\n",
    "        'data' : traces,\n",
    "            'layout': go.Layout(\n",
    "                               xaxis = {'title' : 'gpd Per Capita', 'type' : 'log'},\n",
    "                               yaxis = {'title' : 'Life Expactency'})}\n",
    "\n",
    "\n",
    "if __name__ == '__main__':\n",
    "    app.run_server()"
   ]
  },
  {
   "cell_type": "code",
   "execution_count": null,
   "metadata": {},
   "outputs": [],
   "source": []
  },
  {
   "cell_type": "code",
   "execution_count": null,
   "metadata": {},
   "outputs": [],
   "source": []
  },
  {
   "cell_type": "code",
   "execution_count": null,
   "metadata": {},
   "outputs": [],
   "source": []
  },
  {
   "cell_type": "code",
   "execution_count": null,
   "metadata": {},
   "outputs": [],
   "source": []
  }
 ],
 "metadata": {
  "language_info": {},
  "orig_nbformat": 3
 },
 "nbformat": 4,
 "nbformat_minor": 2
}